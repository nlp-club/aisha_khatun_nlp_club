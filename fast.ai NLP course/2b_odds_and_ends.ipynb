{
  "nbformat": 4,
  "nbformat_minor": 0,
  "metadata": {
    "kernelspec": {
      "display_name": "Python 3",
      "language": "python",
      "name": "python3"
    },
    "language_info": {
      "codemirror_mode": {
        "name": "ipython",
        "version": 3
      },
      "file_extension": ".py",
      "mimetype": "text/x-python",
      "name": "python",
      "nbconvert_exporter": "python",
      "pygments_lexer": "ipython3",
      "version": "3.7.3"
    },
    "colab": {
      "name": "2b-odds-and-ends.ipynb",
      "version": "0.3.2",
      "provenance": []
    }
  },
  "cells": [
    {
      "cell_type": "markdown",
      "metadata": {
        "id": "YIX45oWvfcii",
        "colab_type": "text"
      },
      "source": [
        "In this notebook, I want to wrap up some loose ends from last time."
      ]
    },
    {
      "cell_type": "markdown",
      "metadata": {
        "id": "2s9xz37Sfcik",
        "colab_type": "text"
      },
      "source": [
        "## The two cultures"
      ]
    },
    {
      "cell_type": "markdown",
      "metadata": {
        "id": "gN5k4L4ffcil",
        "colab_type": "text"
      },
      "source": [
        "This \"debate\" captures the tension between two approaches:\n",
        "\n",
        "- modeling the underlying mechanism of a phenomena\n",
        "- using machine learning to predict outputs (without necessarily understanding the mechanisms that create them)"
      ]
    },
    {
      "cell_type": "markdown",
      "metadata": {
        "id": "B41czTi-fcim",
        "colab_type": "text"
      },
      "source": [
        "<img src=\"https://github.com/fastai/course-nlp/blob/master/images/glutathione.jpg?raw=1\" alt=\"One carbon cell metabolism\" style=\"width: 80%\"/>"
      ]
    },
    {
      "cell_type": "markdown",
      "metadata": {
        "id": "exuy2NM2fcin",
        "colab_type": "text"
      },
      "source": [
        "I was part of a research project (in 2007) that involved manually coding each of the above reactions.  We were determining if the final system could generate the same ouputs (in this case, levels in the blood of various substrates) as were observed in clinical studies.  \n",
        "\n",
        "The equation for each reaction could be quite complex:\n",
        "<img src=\"https://github.com/fastai/course-nlp/blob/master/images/vcbs.png?raw=1\" alt=\"reaction equation\" style=\"width: 80%\"/>\n",
        "\n",
        "This is an example of modeling the underlying mechanism, and is very different from a machine learning approach.\n",
        "\n",
        "Source: https://www.ncbi.nlm.nih.gov/pmc/articles/PMC2391141/"
      ]
    },
    {
      "cell_type": "markdown",
      "metadata": {
        "id": "BZ1s3BTWhyhe",
        "colab_type": "text"
      },
      "source": [
        "**my edit:** But these two processes are not mutually exclusive. We can have a method that mixes up the two my considering only SOME underlying mechanism."
      ]
    },
    {
      "cell_type": "markdown",
      "metadata": {
        "id": "ufgzT5exfcin",
        "colab_type": "text"
      },
      "source": [
        "## The most popular word in each state"
      ]
    },
    {
      "cell_type": "markdown",
      "metadata": {
        "id": "Uycq9ABTfcio",
        "colab_type": "text"
      },
      "source": [
        "<img src=\"https://github.com/fastai/course-nlp/blob/master/images/map-popular-word.png?raw=1\" alt=\"The\" style=\"width: 80%\"/>"
      ]
    },
    {
      "cell_type": "markdown",
      "metadata": {
        "id": "L169LOQ6fcip",
        "colab_type": "text"
      },
      "source": [
        "A time to remove stop words"
      ]
    },
    {
      "cell_type": "markdown",
      "metadata": {
        "id": "I-aZGcPDjJRd",
        "colab_type": "text"
      },
      "source": [
        "**Stemming vs lemmatization**\n",
        "Stemming is a poor mans lemmatizatin, meaning stemming is just chopping off ends of a word to find a probable root, and lemmatization is finding the actual root, which is an *actual* word.\n",
        "\n",
        "Lemmatization is computationally expensive than stemming.\n",
        "\n",
        "**When to do it?**\n",
        "\n",
        "When you have less data you wanna stem/lematize.\n",
        "\n",
        "Also when you think your model can handle the complexity of the language (like a neural net), you dont't really need to remove stop words or do stemming/lematization. But if your model is simpler and cant handle the complexity or learn as much as to realize these are stop words or same rooted words, maybe you neeed to remove stop words and perform stemming/lemmatization."
      ]
    },
    {
      "cell_type": "markdown",
      "metadata": {
        "id": "4yV6bX0Bfcir",
        "colab_type": "text"
      },
      "source": [
        "## Factorization is analgous to matrix decomposition"
      ]
    },
    {
      "cell_type": "markdown",
      "metadata": {
        "heading_collapsed": true,
        "id": "tVhH6nmnfcir",
        "colab_type": "text"
      },
      "source": [
        "### With Integers"
      ]
    },
    {
      "cell_type": "markdown",
      "metadata": {
        "hidden": true,
        "id": "PsUIBImwfcis",
        "colab_type": "text"
      },
      "source": [
        "Multiplication: \n",
        "\t$$2 * 2 * 3 * 3 * 2 * 2 \\rightarrow 144$$\n",
        "    \n",
        "<img src=\"https://github.com/fastai/course-nlp/blob/master/images/factorization.png?raw=1\" alt=\"factorization\" style=\"width: 50%\"/>\n",
        "\n",
        "Factorization is the “opposite” of multiplication: \n",
        "\t $$144 \\rightarrow 2 * 2 * 3 * 3 * 2 * 2$$\n",
        "     \n",
        "Here, the factors have the nice property of being prime.\n",
        "\n",
        "Prime factorization is much harder than multiplication (which is good, because it’s the heart of encryption)."
      ]
    },
    {
      "cell_type": "markdown",
      "metadata": {
        "heading_collapsed": true,
        "id": "PWESYPhifcit",
        "colab_type": "text"
      },
      "source": [
        "### With Matrices"
      ]
    },
    {
      "cell_type": "markdown",
      "metadata": {
        "hidden": true,
        "id": "PzCvE4Rxfciu",
        "colab_type": "text"
      },
      "source": [
        "Matrix decompositions are a way of taking matrices apart (the \"opposite\" of matrix multiplication).\n",
        "\n",
        "Similarly, we use matrix decompositions to come up with matrices with nice properties."
      ]
    },
    {
      "cell_type": "markdown",
      "metadata": {
        "hidden": true,
        "id": "xN6cWUOLfciv",
        "colab_type": "text"
      },
      "source": [
        "Taking matrices apart is harder than putting them together.\n",
        "\n",
        "[One application](https://github.com/fastai/numerical-linear-algebra/blob/master/nbs/3.%20Background%20Removal%20with%20Robust%20PCA.ipynb):\n",
        "\n",
        "<img src=\"https://github.com/fastai/course-nlp/blob/master/images/grid1.jpg?raw=1\" alt=\"The\" style=\"width: 100%\"/>"
      ]
    },
    {
      "cell_type": "markdown",
      "metadata": {
        "hidden": true,
        "id": "hODTZ1Anfciv",
        "colab_type": "text"
      },
      "source": [
        "What are the nice properties that matrices in an SVD decomposition have?\n",
        "\n",
        "$$A = USV$$\n",
        "\n",
        "- orthanormal along the topic column (column wise and row wise)\n",
        "- the middle matrix s is a diagonal matrix. it has singular values, ordered in descending order. They represent importance.\n",
        "- V has the same properties as U, except in transposed positioning."
      ]
    },
    {
      "cell_type": "markdown",
      "metadata": {
        "id": "GCmNLLV9fciw",
        "colab_type": "text"
      },
      "source": [
        "## Some Linear Algebra Review"
      ]
    },
    {
      "cell_type": "markdown",
      "metadata": {
        "id": "vlG7gUFVfcix",
        "colab_type": "text"
      },
      "source": [
        "### Matrix-vector multiplication"
      ]
    },
    {
      "cell_type": "markdown",
      "metadata": {
        "id": "FjCcUPLnfciy",
        "colab_type": "text"
      },
      "source": [
        "$Ax = b$ takes a linear combination of the columns of $A$, using coefficients $x$\n",
        "\n",
        "http://matrixmultiplication.xyz/\n",
        "\n",
        "<img src=\"https://github.com/nlp-club/aisha_khatun_nlp_club/blob/master/fast.ai%20NLP%20course/Screenshot%20from%202019-07-26%2011-20-35.png?raw=1\" alt=\"NMF on faces\" style=\"width: 80%\"/>"
      ]
    },
    {
      "cell_type": "markdown",
      "metadata": {
        "id": "S1WkOB2Bfciz",
        "colab_type": "text"
      },
      "source": [
        "### Matrix-matrix multiplication"
      ]
    },
    {
      "cell_type": "markdown",
      "metadata": {
        "id": "lIqXY9VUfci0",
        "colab_type": "text"
      },
      "source": [
        "$A B = C$ each column of C is a linear combination of columns of A, where the coefficients come from the corresponding column of C"
      ]
    },
    {
      "cell_type": "markdown",
      "metadata": {
        "id": "V-JuFkEAsYNg",
        "colab_type": "text"
      },
      "source": [
        ""
      ]
    },
    {
      "cell_type": "markdown",
      "metadata": {
        "id": "CnWmwAYvfci0",
        "colab_type": "text"
      },
      "source": [
        "<img src=\"https://github.com/fastai/course-nlp/blob/master/images/face_nmf.png?raw=1\" alt=\"NMF on faces\" style=\"width: 80%\"/>\n",
        "\n",
        "(source: [NMF Tutorial](http://perso.telecom-paristech.fr/~essid/teach/NMF_tutorial_ICME-2014.pdf))"
      ]
    },
    {
      "cell_type": "markdown",
      "metadata": {
        "id": "Xzolqp-tfci1",
        "colab_type": "text"
      },
      "source": [
        "### Matrices as Transformations"
      ]
    },
    {
      "cell_type": "markdown",
      "metadata": {
        "id": "RmvTOsvPfci2",
        "colab_type": "text"
      },
      "source": [
        "The 3Blue 1Brown [Essence of Linear Algebra](https://www.youtube.com/playlist?list=PLZHQObOWTQDPD3MizzM2xVFitgF8hE_ab) videos are fantastic.  They give a much more visual & geometric perspective on linear algreba than how it is typically taught.  These videos are a great resource if you are a linear algebra beginner, or feel uncomfortable or rusty with the material.\n",
        "\n",
        "Even if you are a linear algrebra pro, I still recommend these videos for a new perspective, and they are very well made."
      ]
    },
    {
      "cell_type": "code",
      "metadata": {
        "id": "W52hf_q6fci3",
        "colab_type": "code",
        "outputId": "2d8f8790-5845-4f98-871f-333ae956ec11",
        "colab": {
          "base_uri": "https://localhost:8080/",
          "height": 321
        }
      },
      "source": [
        "from IPython.display import YouTubeVideo\n",
        "\n",
        "YouTubeVideo(\"kYB8IZa5AuE\")"
      ],
      "execution_count": 1,
      "outputs": [
        {
          "output_type": "execute_result",
          "data": {
            "text/html": [
              "\n",
              "        <iframe\n",
              "            width=\"400\"\n",
              "            height=\"300\"\n",
              "            src=\"https://www.youtube.com/embed/kYB8IZa5AuE\"\n",
              "            frameborder=\"0\"\n",
              "            allowfullscreen\n",
              "        ></iframe>\n",
              "        "
            ],
            "text/plain": [
              "<IPython.lib.display.YouTubeVideo at 0x7fca261fdc88>"
            ],
            "image/jpeg": "[encoded data removed]"
          },
          "metadata": {
            "tags": []
          },
          "execution_count": 1
        }
      ]
    },
    {
      "cell_type": "markdown",
      "metadata": {
        "id": "9E-NewetwX_v",
        "colab_type": "text"
      },
      "source": [
        "- how does this relate to NMF? we should watch some ''basis changing'' videos.\n",
        "\n",
        "- why do we call it transformation, and not function (which are actally the same thing!)\n",
        "- because transformation is related to movement, we want to think in terms of vector movements.\n",
        "- for the tranformation to be linear, it has to follow two properties:\n",
        "  - all lines have to remain lines\n",
        "  - the origin has to remain fixed\n",
        "- that means mainly \" Grid lines reamin parallel and evenly spaced \".\n",
        "- we can find any transformed vector from where the i and j vectors landed.\n",
        "- the i and j vectors can be combined together to form a 2x2 matrix. its a transformation matrix.\n",
        "- i and j are basis vectors.\n",
        "- that matrix has columns i and j. so xi+yj = v , the required vector\n",
        "- now that can be actually called, \"matrix multiplication\". comma=column -> [x,y][i, j] => [x,y][a b , c d]"
      ]
    },
    {
      "cell_type": "markdown",
      "metadata": {
        "id": "6osnj1zWfci8",
        "colab_type": "text"
      },
      "source": [
        "## British Literature SVD & NMF in Excel"
      ]
    },
    {
      "cell_type": "markdown",
      "metadata": {
        "id": "Tcj-oLszfci-",
        "colab_type": "text"
      },
      "source": [
        "Data was downloaded from [here](https://de.dariah.eu/tatom/datasets.html)\n",
        "\n",
        "The code below was used to create the matrices which are displayed in the SVD and NMF of British Literature excel workbook. The data is intended to be viewed in Excel, I've just included the code here for thoroughness."
      ]
    },
    {
      "cell_type": "markdown",
      "metadata": {
        "heading_collapsed": true,
        "id": "uXH6KWLcfci_",
        "colab_type": "text"
      },
      "source": [
        "### Initializing, create document-term matrix"
      ]
    },
    {
      "cell_type": "code",
      "metadata": {
        "hidden": true,
        "id": "MCYnHFqJfcjA",
        "colab_type": "code",
        "colab": {}
      },
      "source": [
        "import numpy as np\n",
        "from sklearn.feature_extraction.text import CountVectorizer, TfidfVectorizer\n",
        "from sklearn import decomposition\n",
        "from glob import glob\n",
        "import os"
      ],
      "execution_count": 0,
      "outputs": []
    },
    {
      "cell_type": "code",
      "metadata": {
        "hidden": true,
        "id": "WTv5e2HNfcjD",
        "colab_type": "code",
        "colab": {}
      },
      "source": [
        "np.set_printoptions(suppress=True)"
      ],
      "execution_count": 0,
      "outputs": []
    },
    {
      "cell_type": "code",
      "metadata": {
        "hidden": true,
        "id": "la34JydGfcjG",
        "colab_type": "code",
        "colab": {}
      },
      "source": [
        "filenames = []\n",
        "for folder in [\"british-fiction-corpus\"]: #, \"french-plays\", \"hugo-les-misérables\"]:\n",
        "    filenames.extend(glob(\"data/literature/\" + folder + \"/*.txt\"))"
      ],
      "execution_count": 0,
      "outputs": []
    },
    {
      "cell_type": "code",
      "metadata": {
        "hidden": true,
        "id": "nVJsNXsEfcjI",
        "colab_type": "code",
        "outputId": "4fa554da-fca7-4cb9-d2be-767b4dd1b250",
        "colab": {}
      },
      "source": [
        "len(filenames)"
      ],
      "execution_count": 0,
      "outputs": [
        {
          "output_type": "execute_result",
          "data": {
            "text/plain": [
              "27"
            ]
          },
          "metadata": {
            "tags": []
          },
          "execution_count": 47
        }
      ]
    },
    {
      "cell_type": "code",
      "metadata": {
        "hidden": true,
        "id": "H6yRFCSxfcjL",
        "colab_type": "code",
        "outputId": "d4081da6-2b22-459d-dcf9-3516a3326c55",
        "colab": {}
      },
      "source": [
        "vectorizer = TfidfVectorizer(input='filename', stop_words='english')\n",
        "dtm = vectorizer.fit_transform(filenames).toarray()\n",
        "vocab = np.array(vectorizer.get_feature_names())\n",
        "dtm.shape, len(vocab)"
      ],
      "execution_count": 0,
      "outputs": [
        {
          "output_type": "execute_result",
          "data": {
            "text/plain": [
              "((27, 55035), 55035)"
            ]
          },
          "metadata": {
            "tags": []
          },
          "execution_count": 134
        }
      ]
    },
    {
      "cell_type": "code",
      "metadata": {
        "hidden": true,
        "id": "61zTzBtDfcjP",
        "colab_type": "code",
        "outputId": "449cb28d-dd37-4d0e-e6ed-ded1ebfb8152",
        "colab": {}
      },
      "source": [
        "[f.split(\"/\")[3] for f in filenames]"
      ],
      "execution_count": 0,
      "outputs": [
        {
          "output_type": "execute_result",
          "data": {
            "text/plain": [
              "['Sterne_Tristram.txt',\n",
              " 'Austen_Pride.txt',\n",
              " 'Thackeray_Pendennis.txt',\n",
              " 'ABronte_Agnes.txt',\n",
              " 'Austen_Sense.txt',\n",
              " 'Thackeray_Vanity.txt',\n",
              " 'Trollope_Barchester.txt',\n",
              " 'Fielding_Tom.txt',\n",
              " 'Dickens_Bleak.txt',\n",
              " 'Eliot_Mill.txt',\n",
              " 'EBronte_Wuthering.txt',\n",
              " 'Eliot_Middlemarch.txt',\n",
              " 'Fielding_Joseph.txt',\n",
              " 'ABronte_Tenant.txt',\n",
              " 'Austen_Emma.txt',\n",
              " 'Trollope_Prime.txt',\n",
              " 'CBronte_Villette.txt',\n",
              " 'CBronte_Jane.txt',\n",
              " 'Richardson_Clarissa.txt',\n",
              " 'CBronte_Professor.txt',\n",
              " 'Dickens_Hard.txt',\n",
              " 'Eliot_Adam.txt',\n",
              " 'Dickens_David.txt',\n",
              " 'Trollope_Phineas.txt',\n",
              " 'Richardson_Pamela.txt',\n",
              " 'Sterne_Sentimental.txt',\n",
              " 'Thackeray_Barry.txt']"
            ]
          },
          "metadata": {
            "tags": []
          },
          "execution_count": 135
        }
      ]
    },
    {
      "cell_type": "markdown",
      "metadata": {
        "heading_collapsed": true,
        "id": "3xmzmHMqfcjS",
        "colab_type": "text"
      },
      "source": [
        "### NMF"
      ]
    },
    {
      "cell_type": "code",
      "metadata": {
        "hidden": true,
        "id": "M7UBLA8JfcjT",
        "colab_type": "code",
        "colab": {}
      },
      "source": [
        "clf = decomposition.NMF(n_components=10, random_state=1)\n",
        "\n",
        "W1 = clf.fit_transform(dtm)\n",
        "H1 = clf.components_"
      ],
      "execution_count": 0,
      "outputs": []
    },
    {
      "cell_type": "code",
      "metadata": {
        "hidden": true,
        "id": "yzFA2REFfcjV",
        "colab_type": "code",
        "colab": {}
      },
      "source": [
        "num_top_words=8\n",
        "\n",
        "def show_topics(a):\n",
        "    top_words = lambda t: [vocab[i] for i in np.argsort(t)[:-num_top_words-1:-1]]\n",
        "    topic_words = ([top_words(t) for t in a])\n",
        "    return [' '.join(t) for t in topic_words]"
      ],
      "execution_count": 0,
      "outputs": []
    },
    {
      "cell_type": "code",
      "metadata": {
        "hidden": true,
        "id": "BLHxN376fcjY",
        "colab_type": "code",
        "colab": {}
      },
      "source": [
        "def get_all_topic_words(H):\n",
        "    top_indices = lambda t: {i for i in np.argsort(t)[:-num_top_words-1:-1]}\n",
        "    topic_indices = [top_indices(t) for t in H]\n",
        "    return sorted(set.union(*topic_indices))"
      ],
      "execution_count": 0,
      "outputs": []
    },
    {
      "cell_type": "code",
      "metadata": {
        "hidden": true,
        "id": "ECGwBvF_fcjb",
        "colab_type": "code",
        "colab": {}
      },
      "source": [
        "ind = get_all_topic_words(H1)"
      ],
      "execution_count": 0,
      "outputs": []
    },
    {
      "cell_type": "code",
      "metadata": {
        "hidden": true,
        "id": "xDl7T68lfcjg",
        "colab_type": "code",
        "outputId": "0977c69d-84e3-4cd2-f4bd-de935bb94911",
        "colab": {}
      },
      "source": [
        "vocab[ind]"
      ],
      "execution_count": 0,
      "outputs": [
        {
          "output_type": "execute_result",
          "data": {
            "text/plain": [
              "array(['adams', 'allworthy', 'bounderby', 'brandon', 'catherine', 'cathy',\n",
              "       'corporal', 'crawley', 'darcy', 'dashwood', 'did', 'earnshaw',\n",
              "       'edgar', 'elinor', 'emma', 'father', 'ferrars', 'finn', 'glegg',\n",
              "       'good', 'gradgrind', 'hareton', 'heathcliff', 'jennings', 'jones',\n",
              "       'joseph', 'know', 'lady', 'laura', 'like', 'linton', 'little', 'll',\n",
              "       'lopez', 'louisa', 'lyndon', 'maggie', 'man', 'marianne', 'miss',\n",
              "       'mr', 'mrs', 'old', 'osborne', 'pendennis', 'philip', 'phineas',\n",
              "       'quoth', 'said', 'sissy', 'sophia', 'sparsit', 'stephen', 'thought',\n",
              "       'time', 'tis', 'toby', 'tom', 'trim', 'tulliver', 'uncle', 'wakem',\n",
              "       'wharton', 'willoughby'], \n",
              "      dtype='<U31')"
            ]
          },
          "metadata": {
            "tags": []
          },
          "execution_count": 140
        }
      ]
    },
    {
      "cell_type": "code",
      "metadata": {
        "hidden": true,
        "scrolled": true,
        "id": "61TFDpWOfcjk",
        "colab_type": "code",
        "outputId": "c6930deb-f6dd-46f6-d75b-7d6c6e5f873b",
        "colab": {}
      },
      "source": [
        "show_topics(H1)"
      ],
      "execution_count": 0,
      "outputs": [
        {
          "output_type": "execute_result",
          "data": {
            "text/plain": [
              "['mr said mrs miss emma darcy little know',\n",
              " 'said little like did time know thought good',\n",
              " 'adams jones said lady allworthy sophia joseph mr',\n",
              " 'elinor marianne dashwood jennings willoughby mrs brandon ferrars',\n",
              " 'maggie tulliver said tom glegg philip mr wakem',\n",
              " 'heathcliff linton hareton catherine earnshaw cathy edgar ll',\n",
              " 'toby said uncle father corporal quoth tis trim',\n",
              " 'phineas said mr lopez finn man wharton laura',\n",
              " 'said crawley lyndon pendennis old little osborne lady',\n",
              " 'bounderby gradgrind sparsit said mr sissy louisa stephen']"
            ]
          },
          "metadata": {
            "tags": []
          },
          "execution_count": 141
        }
      ]
    },
    {
      "cell_type": "code",
      "metadata": {
        "hidden": true,
        "id": "X6QUv1ENfcjn",
        "colab_type": "code",
        "outputId": "9fc8578f-fbd5-414b-9874-1d85dcf67486",
        "colab": {}
      },
      "source": [
        "W1.shape, H1[:, ind].shape"
      ],
      "execution_count": 0,
      "outputs": [
        {
          "output_type": "execute_result",
          "data": {
            "text/plain": [
              "((27, 10), (10, 64))"
            ]
          },
          "metadata": {
            "tags": []
          },
          "execution_count": 142
        }
      ]
    },
    {
      "cell_type": "markdown",
      "metadata": {
        "hidden": true,
        "id": "XI0-UBPIfcjq",
        "colab_type": "text"
      },
      "source": [
        "#### Export to CSVs"
      ]
    },
    {
      "cell_type": "code",
      "metadata": {
        "collapsed": true,
        "hidden": true,
        "id": "t7NoqR57fcjq",
        "colab_type": "code",
        "colab": {}
      },
      "source": [
        "from IPython.display import FileLink, FileLinks"
      ],
      "execution_count": 0,
      "outputs": []
    },
    {
      "cell_type": "code",
      "metadata": {
        "hidden": true,
        "id": "gZ_Lq8Isfcjt",
        "colab_type": "code",
        "outputId": "4fb13edc-be87-4c92-e630-dedc5ed99306",
        "colab": {}
      },
      "source": [
        "np.savetxt(\"britlit_W.csv\", W1, delimiter=\",\", fmt='%.14f')\n",
        "FileLink('britlit_W.csv')"
      ],
      "execution_count": 0,
      "outputs": [
        {
          "output_type": "execute_result",
          "data": {
            "text/html": [
              "<a href='britlit_W.csv' target='_blank'>britlit_W.csv</a><br>"
            ],
            "text/plain": [
              "/data/jhoward/rachel/num-lin-alg/nbs/britlit_W.csv"
            ]
          },
          "metadata": {
            "tags": []
          },
          "execution_count": 119
        }
      ]
    },
    {
      "cell_type": "code",
      "metadata": {
        "hidden": true,
        "id": "4t4inUEHfcjv",
        "colab_type": "code",
        "outputId": "8c50e2bd-a164-4319-a666-9039b494a05e",
        "colab": {}
      },
      "source": [
        "np.savetxt(\"britlit_H.csv\", H1[:,ind], delimiter=\",\", fmt='%.14f')\n",
        "FileLink('britlit_H.csv')"
      ],
      "execution_count": 0,
      "outputs": [
        {
          "output_type": "execute_result",
          "data": {
            "text/html": [
              "<a href='britlit_H.csv' target='_blank'>britlit_H.csv</a><br>"
            ],
            "text/plain": [
              "/data/jhoward/rachel/num-lin-alg/nbs/britlit_H.csv"
            ]
          },
          "metadata": {
            "tags": []
          },
          "execution_count": 120
        }
      ]
    },
    {
      "cell_type": "code",
      "metadata": {
        "hidden": true,
        "id": "kAAUdIVSfcjz",
        "colab_type": "code",
        "outputId": "63206772-13c4-45a4-976c-750f3745a180",
        "colab": {}
      },
      "source": [
        "np.savetxt(\"britlit_raw.csv\", dtm[:,ind], delimiter=\",\", fmt='%.14f')\n",
        "FileLink('britlit_raw.csv')"
      ],
      "execution_count": 0,
      "outputs": [
        {
          "output_type": "execute_result",
          "data": {
            "text/html": [
              "<a href='britlit_raw.csv' target='_blank'>britlit_raw.csv</a><br>"
            ],
            "text/plain": [
              "/data/jhoward/rachel/num-lin-alg/nbs/britlit_raw.csv"
            ]
          },
          "metadata": {
            "tags": []
          },
          "execution_count": 131
        }
      ]
    },
    {
      "cell_type": "code",
      "metadata": {
        "collapsed": true,
        "hidden": true,
        "id": "pfOKDimUfcj2",
        "colab_type": "code",
        "outputId": "3561b1d8-f53e-4949-8850-d46f82ef94bd",
        "colab": {}
      },
      "source": [
        "[str(word) for word in vocab[ind]]"
      ],
      "execution_count": 0,
      "outputs": [
        {
          "output_type": "execute_result",
          "data": {
            "text/plain": [
              "['adams',\n",
              " 'allworthy',\n",
              " 'bounderby',\n",
              " 'brandon',\n",
              " 'catherine',\n",
              " 'cathy',\n",
              " 'corporal',\n",
              " 'crawley',\n",
              " 'darcy',\n",
              " 'dashwood',\n",
              " 'did',\n",
              " 'earnshaw',\n",
              " 'edgar',\n",
              " 'elinor',\n",
              " 'emma',\n",
              " 'father',\n",
              " 'ferrars',\n",
              " 'finn',\n",
              " 'glegg',\n",
              " 'good',\n",
              " 'gradgrind',\n",
              " 'hareton',\n",
              " 'heathcliff',\n",
              " 'jennings',\n",
              " 'jones',\n",
              " 'joseph',\n",
              " 'know',\n",
              " 'lady',\n",
              " 'laura',\n",
              " 'like',\n",
              " 'linton',\n",
              " 'little',\n",
              " 'll',\n",
              " 'lopez',\n",
              " 'louisa',\n",
              " 'lyndon',\n",
              " 'maggie',\n",
              " 'man',\n",
              " 'marianne',\n",
              " 'miss',\n",
              " 'mr',\n",
              " 'mrs',\n",
              " 'old',\n",
              " 'osborne',\n",
              " 'pendennis',\n",
              " 'philip',\n",
              " 'phineas',\n",
              " 'quoth',\n",
              " 'said',\n",
              " 'sissy',\n",
              " 'sophia',\n",
              " 'sparsit',\n",
              " 'stephen',\n",
              " 'thought',\n",
              " 'time',\n",
              " 'tis',\n",
              " 'toby',\n",
              " 'tom',\n",
              " 'trim',\n",
              " 'tulliver',\n",
              " 'uncle',\n",
              " 'wakem',\n",
              " 'wharton',\n",
              " 'willoughby']"
            ]
          },
          "metadata": {
            "tags": []
          },
          "execution_count": 121
        }
      ]
    },
    {
      "cell_type": "markdown",
      "metadata": {
        "id": "lAcWfOYqfcj6",
        "colab_type": "text"
      },
      "source": [
        "### SVD"
      ]
    },
    {
      "cell_type": "code",
      "metadata": {
        "id": "y_aAyRh8fcj6",
        "colab_type": "code",
        "colab": {}
      },
      "source": [
        "U, s, V = decomposition.randomized_svd(dtm, 10)"
      ],
      "execution_count": 0,
      "outputs": []
    },
    {
      "cell_type": "code",
      "metadata": {
        "id": "ppb-oSk6fcj8",
        "colab_type": "code",
        "colab": {}
      },
      "source": [
        "ind = get_all_topic_words(V)"
      ],
      "execution_count": 0,
      "outputs": []
    },
    {
      "cell_type": "code",
      "metadata": {
        "id": "uDmlQg05fcj-",
        "colab_type": "code",
        "outputId": "5b5ad10b-1c81-4fec-e8ff-35e407a1167f",
        "colab": {}
      },
      "source": [
        "len(ind)"
      ],
      "execution_count": 0,
      "outputs": [
        {
          "output_type": "execute_result",
          "data": {
            "text/plain": [
              "52"
            ]
          },
          "metadata": {
            "tags": []
          },
          "execution_count": 145
        }
      ]
    },
    {
      "cell_type": "code",
      "metadata": {
        "id": "GUImZT5ZfckB",
        "colab_type": "code",
        "outputId": "05e4cfb8-d5e8-4d3c-b0d6-0cff85d70455",
        "colab": {}
      },
      "source": [
        "vocab[ind]"
      ],
      "execution_count": 0,
      "outputs": [
        {
          "output_type": "execute_result",
          "data": {
            "text/plain": [
              "array(['adams', 'allworthy', 'bounderby', 'bretton', 'catherine',\n",
              "       'crimsworth', 'darcy', 'dashwood', 'did', 'elinor', 'elton', 'emma',\n",
              "       'finn', 'fleur', 'glegg', 'good', 'gradgrind', 'hareton', 'hath',\n",
              "       'heathcliff', 'hunsden', 'jennings', 'jones', 'joseph', 'knightley',\n",
              "       'know', 'lady', 'linton', 'little', 'lopez', 'louisa', 'lydgate',\n",
              "       'madame', 'maggie', 'man', 'marianne', 'miss', 'monsieur', 'mr',\n",
              "       'mrs', 'pelet', 'philip', 'phineas', 'said', 'sissy', 'sophia',\n",
              "       'sparsit', 'toby', 'tom', 'tulliver', 'uncle', 'weston'], \n",
              "      dtype='<U31')"
            ]
          },
          "metadata": {
            "tags": []
          },
          "execution_count": 146
        }
      ]
    },
    {
      "cell_type": "code",
      "metadata": {
        "scrolled": true,
        "id": "WmZWPOD0fckE",
        "colab_type": "code",
        "outputId": "0554f4f0-042e-4d65-e003-e77866ec0647",
        "colab": {}
      },
      "source": [
        "show_topics(H1)"
      ],
      "execution_count": 0,
      "outputs": [
        {
          "output_type": "execute_result",
          "data": {
            "text/plain": [
              "['mr said mrs miss emma darcy little know',\n",
              " 'said little like did time know thought good',\n",
              " 'adams jones said lady allworthy sophia joseph mr',\n",
              " 'elinor marianne dashwood jennings willoughby mrs brandon ferrars',\n",
              " 'maggie tulliver said tom glegg philip mr wakem',\n",
              " 'heathcliff linton hareton catherine earnshaw cathy edgar ll',\n",
              " 'toby said uncle father corporal quoth tis trim',\n",
              " 'phineas said mr lopez finn man wharton laura',\n",
              " 'said crawley lyndon pendennis old little osborne lady',\n",
              " 'bounderby gradgrind sparsit said mr sissy louisa stephen']"
            ]
          },
          "metadata": {
            "tags": []
          },
          "execution_count": 147
        }
      ]
    },
    {
      "cell_type": "code",
      "metadata": {
        "id": "X66GmckrfckI",
        "colab_type": "code",
        "outputId": "29a641a3-5606-4807-ecbe-9128ec9ede8f",
        "colab": {}
      },
      "source": [
        "np.savetxt(\"britlit_U.csv\", U, delimiter=\",\", fmt='%.14f')\n",
        "FileLink('britlit_U.csv')"
      ],
      "execution_count": 0,
      "outputs": [
        {
          "output_type": "execute_result",
          "data": {
            "text/html": [
              "<a href='britlit_U.csv' target='_blank'>britlit_U.csv</a><br>"
            ],
            "text/plain": [
              "/data/jhoward/rachel/num-lin-alg/nbs/britlit_U.csv"
            ]
          },
          "metadata": {
            "tags": []
          },
          "execution_count": 148
        }
      ]
    },
    {
      "cell_type": "code",
      "metadata": {
        "id": "hUnnpRygfckM",
        "colab_type": "code",
        "outputId": "c7cacb46-d95f-4a47-ab33-79c10cccf198",
        "colab": {}
      },
      "source": [
        "np.savetxt(\"britlit_V.csv\", V[:,ind], delimiter=\",\", fmt='%.14f')\n",
        "FileLink('britlit_V.csv')"
      ],
      "execution_count": 0,
      "outputs": [
        {
          "output_type": "execute_result",
          "data": {
            "text/html": [
              "<a href='britlit_V.csv' target='_blank'>britlit_V.csv</a><br>"
            ],
            "text/plain": [
              "/data/jhoward/rachel/num-lin-alg/nbs/britlit_V.csv"
            ]
          },
          "metadata": {
            "tags": []
          },
          "execution_count": 149
        }
      ]
    },
    {
      "cell_type": "code",
      "metadata": {
        "id": "HLal2gsifckO",
        "colab_type": "code",
        "outputId": "cbf8d535-650e-415b-8b91-6c8a91d12a39",
        "colab": {}
      },
      "source": [
        "np.savetxt(\"britlit_raw_svd.csv\", dtm[:,ind], delimiter=\",\", fmt='%.14f')\n",
        "FileLink('britlit_raw_svd.csv')"
      ],
      "execution_count": 0,
      "outputs": [
        {
          "output_type": "execute_result",
          "data": {
            "text/html": [
              "<a href='britlit_raw_svd.csv' target='_blank'>britlit_raw_svd.csv</a><br>"
            ],
            "text/plain": [
              "/data/jhoward/rachel/num-lin-alg/nbs/britlit_raw_svd.csv"
            ]
          },
          "metadata": {
            "tags": []
          },
          "execution_count": 150
        }
      ]
    },
    {
      "cell_type": "code",
      "metadata": {
        "id": "wpsi0R0DfckR",
        "colab_type": "code",
        "outputId": "fa8a8f67-0fce-4827-ceb7-05bbcf015080",
        "colab": {}
      },
      "source": [
        "np.savetxt(\"britlit_S.csv\", np.diag(s), delimiter=\",\", fmt='%.14f')\n",
        "FileLink('britlit_S.csv')"
      ],
      "execution_count": 0,
      "outputs": [
        {
          "output_type": "execute_result",
          "data": {
            "text/html": [
              "<a href='britlit_S.csv' target='_blank'>britlit_S.csv</a><br>"
            ],
            "text/plain": [
              "/data/jhoward/rachel/num-lin-alg/nbs/britlit_S.csv"
            ]
          },
          "metadata": {
            "tags": []
          },
          "execution_count": 151
        }
      ]
    },
    {
      "cell_type": "code",
      "metadata": {
        "collapsed": true,
        "id": "IzU8FMO7fckU",
        "colab_type": "code",
        "outputId": "7eb1f310-6c66-4d47-c5dc-78641f19d0e2",
        "colab": {}
      },
      "source": [
        "[str(word) for word in vocab[ind]]"
      ],
      "execution_count": 0,
      "outputs": [
        {
          "output_type": "execute_result",
          "data": {
            "text/plain": [
              "['adams',\n",
              " 'allworthy',\n",
              " 'bounderby',\n",
              " 'bretton',\n",
              " 'catherine',\n",
              " 'crimsworth',\n",
              " 'darcy',\n",
              " 'dashwood',\n",
              " 'did',\n",
              " 'elinor',\n",
              " 'elton',\n",
              " 'emma',\n",
              " 'finn',\n",
              " 'fleur',\n",
              " 'glegg',\n",
              " 'good',\n",
              " 'gradgrind',\n",
              " 'hareton',\n",
              " 'hath',\n",
              " 'heathcliff',\n",
              " 'hunsden',\n",
              " 'jennings',\n",
              " 'jones',\n",
              " 'joseph',\n",
              " 'knightley',\n",
              " 'know',\n",
              " 'lady',\n",
              " 'linton',\n",
              " 'little',\n",
              " 'lopez',\n",
              " 'louisa',\n",
              " 'lydgate',\n",
              " 'madame',\n",
              " 'maggie',\n",
              " 'man',\n",
              " 'marianne',\n",
              " 'miss',\n",
              " 'monsieur',\n",
              " 'mr',\n",
              " 'mrs',\n",
              " 'pelet',\n",
              " 'philip',\n",
              " 'phineas',\n",
              " 'said',\n",
              " 'sissy',\n",
              " 'sophia',\n",
              " 'sparsit',\n",
              " 'toby',\n",
              " 'tom',\n",
              " 'tulliver',\n",
              " 'uncle',\n",
              " 'weston']"
            ]
          },
          "metadata": {
            "tags": []
          },
          "execution_count": 152
        }
      ]
    },
    {
      "cell_type": "markdown",
      "metadata": {
        "id": "xw0B8Ph4fckZ",
        "colab_type": "text"
      },
      "source": [
        "## Randomized SVD offers a speed up"
      ]
    },
    {
      "cell_type": "markdown",
      "metadata": {
        "id": "liyo30Affcka",
        "colab_type": "text"
      },
      "source": [
        "<img src=\"https://github.com/fastai/course-nlp/blob/master/images/svd_slow.png?raw=1\" alt=\"\" style=\"width: 80%\"/>"
      ]
    },
    {
      "cell_type": "markdown",
      "metadata": {
        "id": "tIc6O4uFfckb",
        "colab_type": "text"
      },
      "source": [
        "One way to address this is to use randomized SVD.  In the below chart, the error is the difference between A - U * S * V, that is, what you've failed to capture in your decomposition:\n",
        "\n",
        "<img src=\"https://github.com/fastai/course-nlp/blob/master/images/svd_speed.png?raw=1\" alt=\"\" style=\"width: 60%\"/>"
      ]
    },
    {
      "cell_type": "markdown",
      "metadata": {
        "id": "cy2MmKJ8fckc",
        "colab_type": "text"
      },
      "source": [
        "For more on randomized SVD, check out my [PyBay 2017 talk](https://www.youtube.com/watch?v=7i6kBz1kZ-A&list=PLtmWHNX-gukLQlMvtRJ19s7-8MrnRV6h6&index=7).\n",
        "\n",
        "For significantly more on randomized SVD, check out the [Computational Linear Algebra course](https://github.com/fastai/numerical-linear-algebra)."
      ]
    },
    {
      "cell_type": "markdown",
      "metadata": {
        "collapsed": true,
        "id": "KIJzYY9ufckd",
        "colab_type": "text"
      },
      "source": [
        "## Full vs Reduced SVD"
      ]
    },
    {
      "cell_type": "markdown",
      "metadata": {
        "id": "P8KweXUrfckg",
        "colab_type": "text"
      },
      "source": [
        "Remember how we were calling `np.linalg.svd(vectors, full_matrices=False)`?  We set `full_matrices=False` to calculate the reduced SVD.  For the full SVD, both U and V are **square** matrices, where the extra columns in U form an orthonormal basis (but zero out when multiplied by extra rows of zeros in S)."
      ]
    },
    {
      "cell_type": "markdown",
      "metadata": {
        "id": "6HLgO0RUfckh",
        "colab_type": "text"
      },
      "source": [
        "Diagrams from Trefethen:\n",
        "\n",
        "<img src=\"https://github.com/fastai/course-nlp/blob/master/images/full_svd.JPG?raw=1\" alt=\"\" style=\"width: 80%\"/>\n",
        "\n",
        "<img src=\"https://github.com/fastai/course-nlp/blob/master/images/reduced_svd.JPG?raw=1\" alt=\"\" style=\"width: 70%\"/>"
      ]
    }
  ]
}