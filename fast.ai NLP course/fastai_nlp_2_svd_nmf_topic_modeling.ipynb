{
  "nbformat": 4,
  "nbformat_minor": 0,
  "metadata": {
    "kernelspec": {
      "name": "python3",
      "display_name": "Python 3"
    },
    "language_info": {
      "codemirror_mode": {
        "name": "ipython",
        "version": 3
      },
      "file_extension": ".py",
      "mimetype": "text/x-python",
      "name": "python",
      "nbconvert_exporter": "python",
      "pygments_lexer": "ipython3",
      "version": "3.7.3"
    },
    "colab": {
      "name": "fastai nlp 2-svd-nmf-topic-modeling.ipynb",
      "version": "0.3.2",
      "provenance": [],
      "collapsed_sections": [
        "eXO1lyGVnEEh"
      ]
    },
    "accelerator": "GPU"
  },
  "cells": [
    {
      "cell_type": "markdown",
      "metadata": {
        "id": "w5TN1LmVnD6y",
        "colab_type": "text"
      },
      "source": [
        "# Topic Modeling with NMF and SVD"
      ]
    },
    {
      "cell_type": "markdown",
      "metadata": {
        "id": "fSl0pnONnD66",
        "colab_type": "text"
      },
      "source": [
        "## The problem"
      ]
    },
    {
      "cell_type": "markdown",
      "metadata": {
        "id": "lIpyyo0enD68",
        "colab_type": "text"
      },
      "source": [
        "Topic modeling is a fun way to start our study of NLP. We will use two popular **matrix decomposition techniques**. \n",
        "\n",
        "We start with a **term-document matrix**:\n",
        "\n",
        "<img src=\"https://github.com/fastai/course-nlp/blob/master/images/document_term.png?raw=1\" alt=\"term-document matrix\" style=\"width: 80%\"/>\n",
        "\n",
        "source: [Introduction to Information Retrieval](http://player.slideplayer.com/15/4528582/#)\n",
        "\n",
        "We can decompose this into one tall thin matrix times one wide short matrix (possibly with a diagonal matrix in between).\n",
        "\n",
        "Notice that this representation does not take into account word order or sentence structure.  It's an example of a **bag of words** approach."
      ]
    },
    {
      "cell_type": "markdown",
      "metadata": {
        "id": "mqf_3B3gnD6-",
        "colab_type": "text"
      },
      "source": [
        "Latent Semantic Analysis (LSA) uses Singular Value Decomposition (SVD)."
      ]
    },
    {
      "cell_type": "markdown",
      "metadata": {
        "id": "xYE_DwM9nD7B",
        "colab_type": "text"
      },
      "source": [
        "### Motivation"
      ]
    },
    {
      "cell_type": "markdown",
      "metadata": {
        "id": "40epcJoqnD7D",
        "colab_type": "text"
      },
      "source": [
        "Consider the most extreme case - reconstructing the matrix using an outer product of two vectors. Clearly, in most cases we won't be able to reconstruct the matrix exactly. But if we had one vector with the relative frequency of each vocabulary word out of the total word count, and one with the average number of words per document, then that outer product would be as close as we can get.\n",
        "\n",
        "Now consider increasing that matrices to two columns and two rows. The optimal decomposition would now be to cluster the documents into two groups, each of which has as different a distribution of words as possible to each other, but as similar as possible amongst the documents in the cluster. We will call those two groups \"topics\". And we would cluster the words into two groups, based on those which most frequently appear in each of the topics. "
      ]
    },
    {
      "cell_type": "markdown",
      "metadata": {
        "id": "guYYt6RUnD7G",
        "colab_type": "text"
      },
      "source": [
        "## Getting started"
      ]
    },
    {
      "cell_type": "markdown",
      "metadata": {
        "id": "8G_bhNsInD7J",
        "colab_type": "text"
      },
      "source": [
        "We'll take a dataset of documents in several different categories, and find topics (consisting of groups of words) for them.  Knowing the actual categories helps us evaluate if the topics we find make sense.\n",
        "\n",
        "We will try this with two different matrix factorizations: **Singular Value Decomposition (SVD)** and **Non-negative Matrix Factorization (NMF)**"
      ]
    },
    {
      "cell_type": "code",
      "metadata": {
        "id": "VPwfV2Z2nD7L",
        "colab_type": "code",
        "colab": {}
      },
      "source": [
        "import numpy as np\n",
        "from sklearn.datasets import fetch_20newsgroups\n",
        "from sklearn import decomposition\n",
        "from scipy import linalg\n",
        "import matplotlib.pyplot as plt"
      ],
      "execution_count": 0,
      "outputs": []
    },
    {
      "cell_type": "code",
      "metadata": {
        "id": "rNeOy0bLnD7U",
        "colab_type": "code",
        "colab": {}
      },
      "source": [
        "%matplotlib inline\n",
        "np.set_printoptions(suppress=True)"
      ],
      "execution_count": 0,
      "outputs": []
    },
    {
      "cell_type": "markdown",
      "metadata": {
        "id": "fG-tf4uNnD7d",
        "colab_type": "text"
      },
      "source": [
        "### Additional Resources"
      ]
    },
    {
      "cell_type": "markdown",
      "metadata": {
        "id": "OpqvKRBsnD7e",
        "colab_type": "text"
      },
      "source": [
        "- [Data source](http://scikit-learn.org/stable/datasets/twenty_newsgroups.html): Newsgroups are discussion groups on Usenet, which was popular in the 80s and 90s before the web really took off.  This dataset includes 18,000 newsgroups posts with 20 topics.\n",
        "- [Chris Manning's book chapter](https://nlp.stanford.edu/IR-book/pdf/18lsi.pdf) on matrix factorization and LSI \n",
        "- Scikit learn [truncated SVD LSI details](http://scikit-learn.org/stable/modules/decomposition.html#lsa)\n",
        "\n",
        "### Other Tutorials\n",
        "- [Scikit-Learn: Out-of-core classification of text documents](http://scikit-learn.org/stable/auto_examples/applications/plot_out_of_core_classification.html): uses [Reuters-21578](https://archive.ics.uci.edu/ml/datasets/reuters-21578+text+categorization+collection) dataset (Reuters articles labeled with ~100 categories), HashingVectorizer\n",
        "- [Text Analysis with Topic Models for the Humanities and Social Sciences](https://de.dariah.eu/tatom/index.html): uses [British and French Literature dataset](https://de.dariah.eu/tatom/datasets.html) of Jane Austen, Charlotte Bronte, Victor Hugo, and more"
      ]
    },
    {
      "cell_type": "markdown",
      "metadata": {
        "id": "c1-72oPpnD7g",
        "colab_type": "text"
      },
      "source": [
        "## Look at our data"
      ]
    },
    {
      "cell_type": "markdown",
      "metadata": {
        "id": "sXzcbeRnnD7j",
        "colab_type": "text"
      },
      "source": [
        "Scikit Learn comes with a number of built-in datasets, as well as loading utilities to load several standard external datasets. This is a [great resource](http://scikit-learn.org/stable/datasets/), and the datasets include Boston housing prices, face images, patches of forest, diabetes, breast cancer, and more.  We will be using the newsgroups dataset.\n",
        "\n",
        "Newsgroups are discussion groups on Usenet, which was popular in the 80s and 90s before the web really took off.  This dataset includes 18,000 newsgroups posts with 20 topics.  "
      ]
    },
    {
      "cell_type": "code",
      "metadata": {
        "id": "yuBqTUDvnD7o",
        "colab_type": "code",
        "colab": {
          "base_uri": "https://localhost:8080/",
          "height": 71
        },
        "outputId": "70a582d5-a05c-4d1f-cc6d-f0a517c42a17"
      },
      "source": [
        "categories = ['alt.atheism', 'talk.religion.misc', 'comp.graphics', 'sci.space']\n",
        "remove = ('headers', 'footers', 'quotes')\n",
        "newsgroups_train = fetch_20newsgroups(subset='train', categories=categories, remove=remove)\n",
        "newsgroups_test = fetch_20newsgroups(subset='test', categories=categories, remove=remove)"
      ],
      "execution_count": 4,
      "outputs": [
        {
          "output_type": "stream",
          "text": [
            "Downloading 20news dataset. This may take a few minutes.\n",
            "Downloading dataset from https://ndownloader.figshare.com/files/5975967 (14 MB)\n"
          ],
          "name": "stderr"
        }
      ]
    },
    {
      "cell_type": "code",
      "metadata": {
        "id": "RgQOjQ6TnD7x",
        "colab_type": "code",
        "outputId": "cd730748-c22a-48cf-e1d2-fab600765009",
        "colab": {
          "base_uri": "https://localhost:8080/",
          "height": 34
        }
      },
      "source": [
        "newsgroups_train.filenames.shape, newsgroups_train.target.shape"
      ],
      "execution_count": 5,
      "outputs": [
        {
          "output_type": "execute_result",
          "data": {
            "text/plain": [
              "((2034,), (2034,))"
            ]
          },
          "metadata": {
            "tags": []
          },
          "execution_count": 5
        }
      ]
    },
    {
      "cell_type": "code",
      "metadata": {
        "id": "oftDgDFMwigb",
        "colab_type": "code",
        "colab": {
          "base_uri": "https://localhost:8080/",
          "height": 34
        },
        "outputId": "0c52c15e-d3e4-441e-d406-5d33484d38e3"
      },
      "source": [
        "len(newsgroups_train.data)"
      ],
      "execution_count": 6,
      "outputs": [
        {
          "output_type": "execute_result",
          "data": {
            "text/plain": [
              "2034"
            ]
          },
          "metadata": {
            "tags": []
          },
          "execution_count": 6
        }
      ]
    },
    {
      "cell_type": "code",
      "metadata": {
        "id": "ZIdH0GIMwbbV",
        "colab_type": "code",
        "colab": {
          "base_uri": "https://localhost:8080/",
          "height": 34
        },
        "outputId": "5b335370-da30-4737-e5b5-ec678e0d9ad8"
      },
      "source": [
        "newsgroups_train.target"
      ],
      "execution_count": 7,
      "outputs": [
        {
          "output_type": "execute_result",
          "data": {
            "text/plain": [
              "array([1, 3, 2, ..., 1, 0, 1])"
            ]
          },
          "metadata": {
            "tags": []
          },
          "execution_count": 7
        }
      ]
    },
    {
      "cell_type": "code",
      "metadata": {
        "id": "TudBwmDdw_Jq",
        "colab_type": "code",
        "colab": {
          "base_uri": "https://localhost:8080/",
          "height": 34
        },
        "outputId": "6a0329ed-41e5-4fea-b060-2bc014798b78"
      },
      "source": [
        "newsgroups_train.target_names"
      ],
      "execution_count": 8,
      "outputs": [
        {
          "output_type": "execute_result",
          "data": {
            "text/plain": [
              "['alt.atheism', 'comp.graphics', 'sci.space', 'talk.religion.misc']"
            ]
          },
          "metadata": {
            "tags": []
          },
          "execution_count": 8
        }
      ]
    },
    {
      "cell_type": "code",
      "metadata": {
        "id": "i8ORlnnMwWty",
        "colab_type": "code",
        "colab": {
          "base_uri": "https://localhost:8080/",
          "height": 173
        },
        "outputId": "3d5499f2-2fa1-4bdc-bb90-66d8b9c7e60f"
      },
      "source": [
        "newsgroups_train.filenames"
      ],
      "execution_count": 9,
      "outputs": [
        {
          "output_type": "execute_result",
          "data": {
            "text/plain": [
              "array(['/root/scikit_learn_data/20news_home/20news-bydate-train/comp.graphics/38816',\n",
              "       '/root/scikit_learn_data/20news_home/20news-bydate-train/talk.religion.misc/83741',\n",
              "       '/root/scikit_learn_data/20news_home/20news-bydate-train/sci.space/61092',\n",
              "       ...,\n",
              "       '/root/scikit_learn_data/20news_home/20news-bydate-train/comp.graphics/38737',\n",
              "       '/root/scikit_learn_data/20news_home/20news-bydate-train/alt.atheism/53237',\n",
              "       '/root/scikit_learn_data/20news_home/20news-bydate-train/comp.graphics/38269'],\n",
              "      dtype='<U86')"
            ]
          },
          "metadata": {
            "tags": []
          },
          "execution_count": 9
        }
      ]
    },
    {
      "cell_type": "markdown",
      "metadata": {
        "id": "nRV-a5UDnD8B",
        "colab_type": "text"
      },
      "source": [
        "Let's look at some of the data.  Can you guess which category these messages are in?"
      ]
    },
    {
      "cell_type": "code",
      "metadata": {
        "id": "I6hwCOzhnD8D",
        "colab_type": "code",
        "outputId": "97d0ce16-71de-4366-98ca-3b0f3ac09293",
        "colab": {
          "base_uri": "https://localhost:8080/",
          "height": 632
        }
      },
      "source": [
        "print(\"\\n\".join(newsgroups_train.data[:3]))"
      ],
      "execution_count": 10,
      "outputs": [
        {
          "output_type": "stream",
          "text": [
            "Hi,\n",
            "\n",
            "I've noticed that if you only save a model (with all your mapping planes\n",
            "positioned carefully) to a .3DS file that when you reload it after restarting\n",
            "3DS, they are given a default position and orientation.  But if you save\n",
            "to a .PRJ file their positions/orientation are preserved.  Does anyone\n",
            "know why this information is not stored in the .3DS file?  Nothing is\n",
            "explicitly said in the manual about saving texture rules in the .PRJ file. \n",
            "I'd like to be able to read the texture rule information, does anyone have \n",
            "the format for the .PRJ file?\n",
            "\n",
            "Is the .CEL file format available from somewhere?\n",
            "\n",
            "Rych\n",
            "\n",
            "\n",
            "Seems to be, barring evidence to the contrary, that Koresh was simply\n",
            "another deranged fanatic who thought it neccessary to take a whole bunch of\n",
            "folks with him, children and all, to satisfy his delusional mania. Jim\n",
            "Jones, circa 1993.\n",
            "\n",
            "\n",
            "Nope - fruitcakes like Koresh have been demonstrating such evil corruption\n",
            "for centuries.\n",
            "\n",
            " >In article <1993Apr19.020359.26996@sq.sq.com>, msb@sq.sq.com (Mark Brader) \n",
            "\n",
            "MB>                                                             So the\n",
            "MB> 1970 figure seems unlikely to actually be anything but a perijove.\n",
            "\n",
            "JG>Sorry, _perijoves_...I'm not used to talking this language.\n",
            "\n",
            "Couldn't we just say periapsis or apoapsis?\n",
            "\n",
            " \n"
          ],
          "name": "stdout"
        }
      ]
    },
    {
      "cell_type": "markdown",
      "metadata": {
        "id": "aiMw2Of5nD8Q",
        "colab_type": "text"
      },
      "source": [
        "hint: definition of *perijove* is the point in the orbit of a satellite of Jupiter nearest the planet's center "
      ]
    },
    {
      "cell_type": "code",
      "metadata": {
        "id": "UBv_opamnD8S",
        "colab_type": "code",
        "outputId": "2fe1cfdb-6964-42bb-f82d-0c301527c6c2",
        "colab": {
          "base_uri": "https://localhost:8080/",
          "height": 54
        }
      },
      "source": [
        "np.array(newsgroups_train.target_names)[newsgroups_train.target[:3]]"
      ],
      "execution_count": 11,
      "outputs": [
        {
          "output_type": "execute_result",
          "data": {
            "text/plain": [
              "array(['comp.graphics', 'talk.religion.misc', 'sci.space'], dtype='<U18')"
            ]
          },
          "metadata": {
            "tags": []
          },
          "execution_count": 11
        }
      ]
    },
    {
      "cell_type": "markdown",
      "metadata": {
        "id": "vPl-g8oFnD8f",
        "colab_type": "text"
      },
      "source": [
        "The target attribute is the integer index of the category."
      ]
    },
    {
      "cell_type": "code",
      "metadata": {
        "id": "LYGwYX6SnD8h",
        "colab_type": "code",
        "outputId": "4aadf735-55fd-4f9d-e39d-df2b80502307",
        "colab": {
          "base_uri": "https://localhost:8080/",
          "height": 34
        }
      },
      "source": [
        "newsgroups_train.target[:10]"
      ],
      "execution_count": 12,
      "outputs": [
        {
          "output_type": "execute_result",
          "data": {
            "text/plain": [
              "array([1, 3, 2, 0, 2, 0, 2, 1, 2, 1])"
            ]
          },
          "metadata": {
            "tags": []
          },
          "execution_count": 12
        }
      ]
    },
    {
      "cell_type": "code",
      "metadata": {
        "id": "FsxrTDcynD8q",
        "colab_type": "code",
        "colab": {}
      },
      "source": [
        "num_topics, num_top_words = 6, 8"
      ],
      "execution_count": 0,
      "outputs": []
    },
    {
      "cell_type": "markdown",
      "metadata": {
        "id": "jPuhvG2VnD8z",
        "colab_type": "text"
      },
      "source": [
        "## Stop words, stemming, lemmatization"
      ]
    },
    {
      "cell_type": "markdown",
      "metadata": {
        "id": "VoFX-t00nD82",
        "colab_type": "text"
      },
      "source": [
        "### Stop words"
      ]
    },
    {
      "cell_type": "markdown",
      "metadata": {
        "id": "Pp8yXmMGnD84",
        "colab_type": "text"
      },
      "source": [
        "From [Intro to Information Retrieval](https://nlp.stanford.edu/IR-book/html/htmledition/dropping-common-terms-stop-words-1.html):\n",
        "\n",
        "*Some extremely common words which would appear to be of little value in helping select documents matching a user need are excluded from the vocabulary entirely. These words are called stop words.*\n",
        "\n",
        "*The general trend in IR systems over time has been from standard use of quite large stop lists (200-300 terms) to very small stop lists (7-12 terms) to no stop list whatsoever. Web search engines generally do not use stop lists.*"
      ]
    },
    {
      "cell_type": "markdown",
      "metadata": {
        "id": "jUa_zSQ_nD87",
        "colab_type": "text"
      },
      "source": [
        "#### NLTK"
      ]
    },
    {
      "cell_type": "code",
      "metadata": {
        "id": "5CBvQr5inD8-",
        "colab_type": "code",
        "outputId": "a8390234-8242-4944-b579-f511f6bb3403",
        "colab": {
          "base_uri": "https://localhost:8080/",
          "height": 357
        }
      },
      "source": [
        "from sklearn.feature_extraction import stop_words\n",
        "\n",
        "sorted(list(stop_words.ENGLISH_STOP_WORDS))[:20]"
      ],
      "execution_count": 14,
      "outputs": [
        {
          "output_type": "execute_result",
          "data": {
            "text/plain": [
              "['a',\n",
              " 'about',\n",
              " 'above',\n",
              " 'across',\n",
              " 'after',\n",
              " 'afterwards',\n",
              " 'again',\n",
              " 'against',\n",
              " 'all',\n",
              " 'almost',\n",
              " 'alone',\n",
              " 'along',\n",
              " 'already',\n",
              " 'also',\n",
              " 'although',\n",
              " 'always',\n",
              " 'am',\n",
              " 'among',\n",
              " 'amongst',\n",
              " 'amoungst']"
            ]
          },
          "metadata": {
            "tags": []
          },
          "execution_count": 14
        }
      ]
    },
    {
      "cell_type": "code",
      "metadata": {
        "id": "eM24BS1h1B61",
        "colab_type": "code",
        "colab": {
          "base_uri": "https://localhost:8080/",
          "height": 34
        },
        "outputId": "71be8d64-8ee2-4089-a0e8-95c5efade320"
      },
      "source": [
        "len(list(stop_words.ENGLISH_STOP_WORDS))"
      ],
      "execution_count": 15,
      "outputs": [
        {
          "output_type": "execute_result",
          "data": {
            "text/plain": [
              "318"
            ]
          },
          "metadata": {
            "tags": []
          },
          "execution_count": 15
        }
      ]
    },
    {
      "cell_type": "markdown",
      "metadata": {
        "id": "Q4FRQ7OnnD9I",
        "colab_type": "text"
      },
      "source": [
        "There is no single universal list of stop words."
      ]
    },
    {
      "cell_type": "markdown",
      "metadata": {
        "id": "7NWJHhgCnD9M",
        "colab_type": "text"
      },
      "source": [
        "### Stemming and Lemmatization"
      ]
    },
    {
      "cell_type": "markdown",
      "metadata": {
        "id": "XPfP1P_InD9P",
        "colab_type": "text"
      },
      "source": [
        "from [Information Retrieval](https://nlp.stanford.edu/IR-book/html/htmledition/stemming-and-lemmatization-1.html) textbook:\n",
        "\n",
        "Are the below words the same?\n",
        "\n",
        "*organize, organizes, and organizing*\n",
        "\n",
        "*democracy, democratic, and democratization*"
      ]
    },
    {
      "cell_type": "markdown",
      "metadata": {
        "id": "P3TmlzwlnD9S",
        "colab_type": "text"
      },
      "source": [
        "Stemming and Lemmatization both generate the root form of the words. \n",
        "\n",
        "Lemmatization uses the rules about a language.  The resulting tokens are all actual words\n",
        "\n",
        "\"Stemming is the poor-man’s lemmatization.\" (Noah Smith, 2011) Stemming is a crude heuristic that chops the ends off of words.  The resulting tokens may not be actual words. Stemming is faster."
      ]
    },
    {
      "cell_type": "code",
      "metadata": {
        "id": "ObhCHFNRnD9U",
        "colab_type": "code",
        "outputId": "18dd7d23-1c5c-4221-b6cb-ed83a399e1eb",
        "colab": {
          "base_uri": "https://localhost:8080/",
          "height": 68
        }
      },
      "source": [
        "import nltk\n",
        "nltk.download('wordnet')"
      ],
      "execution_count": 16,
      "outputs": [
        {
          "output_type": "stream",
          "text": [
            "[nltk_data] Downloading package wordnet to /root/nltk_data...\n",
            "[nltk_data]   Unzipping corpora/wordnet.zip.\n"
          ],
          "name": "stdout"
        },
        {
          "output_type": "execute_result",
          "data": {
            "text/plain": [
              "True"
            ]
          },
          "metadata": {
            "tags": []
          },
          "execution_count": 16
        }
      ]
    },
    {
      "cell_type": "code",
      "metadata": {
        "id": "lidUhlvKnD9f",
        "colab_type": "code",
        "colab": {}
      },
      "source": [
        "from nltk import stem"
      ],
      "execution_count": 0,
      "outputs": []
    },
    {
      "cell_type": "code",
      "metadata": {
        "id": "DeHO8qqtnD9y",
        "colab_type": "code",
        "colab": {}
      },
      "source": [
        "wnl = stem.WordNetLemmatizer()\n",
        "porter = stem.porter.PorterStemmer()"
      ],
      "execution_count": 0,
      "outputs": []
    },
    {
      "cell_type": "code",
      "metadata": {
        "id": "XUjzYUjnnD9_",
        "colab_type": "code",
        "colab": {}
      },
      "source": [
        "word_list = ['feet', 'foot', 'foots', 'footing']"
      ],
      "execution_count": 0,
      "outputs": []
    },
    {
      "cell_type": "code",
      "metadata": {
        "id": "Byq6Q_5QnD-J",
        "colab_type": "code",
        "outputId": "3020ecf9-b3a9-4a4c-cdbe-4e31121ec786",
        "colab": {
          "base_uri": "https://localhost:8080/",
          "height": 34
        }
      },
      "source": [
        "[wnl.lemmatize(word) for word in word_list]"
      ],
      "execution_count": 20,
      "outputs": [
        {
          "output_type": "execute_result",
          "data": {
            "text/plain": [
              "['foot', 'foot', 'foot', 'footing']"
            ]
          },
          "metadata": {
            "tags": []
          },
          "execution_count": 20
        }
      ]
    },
    {
      "cell_type": "code",
      "metadata": {
        "id": "p95Kg6mwnD-X",
        "colab_type": "code",
        "outputId": "37456658-ed8b-4201-a145-8293114fb327",
        "colab": {
          "base_uri": "https://localhost:8080/",
          "height": 34
        }
      },
      "source": [
        "[porter.stem(word) for word in word_list]"
      ],
      "execution_count": 21,
      "outputs": [
        {
          "output_type": "execute_result",
          "data": {
            "text/plain": [
              "['feet', 'foot', 'foot', 'foot']"
            ]
          },
          "metadata": {
            "tags": []
          },
          "execution_count": 21
        }
      ]
    },
    {
      "cell_type": "markdown",
      "metadata": {
        "id": "4teEwgzqnD-e",
        "colab_type": "text"
      },
      "source": [
        "Your turn!  Now, try lemmatizing and stemming the following collections of words:\n",
        "\n",
        "- fly, flies, flying\n",
        "- organize, organizes, organizing\n",
        "- universe, university"
      ]
    },
    {
      "cell_type": "code",
      "metadata": {
        "id": "_UpVGVCXzZp2",
        "colab_type": "code",
        "colab": {
          "base_uri": "https://localhost:8080/",
          "height": 34
        },
        "outputId": "513d862f-54c5-41ae-8139-7d3bf246cc0a"
      },
      "source": [
        "word_list = ['fly', 'flies', 'flying']\n",
        "[wnl.lemmatize(word) for word in word_list] , [porter.stem(word) for word in word_list]"
      ],
      "execution_count": 22,
      "outputs": [
        {
          "output_type": "execute_result",
          "data": {
            "text/plain": [
              "(['fly', 'fly', 'flying'], ['fli', 'fli', 'fli'])"
            ]
          },
          "metadata": {
            "tags": []
          },
          "execution_count": 22
        }
      ]
    },
    {
      "cell_type": "code",
      "metadata": {
        "id": "NsB3gCzNzloO",
        "colab_type": "code",
        "colab": {
          "base_uri": "https://localhost:8080/",
          "height": 54
        },
        "outputId": "1da1b188-38de-44d3-ff1e-451a5709272d"
      },
      "source": [
        "word_list = ['organize', 'organizes', 'organizing']\n",
        "[wnl.lemmatize(word) for word in word_list] , [porter.stem(word) for word in word_list]"
      ],
      "execution_count": 23,
      "outputs": [
        {
          "output_type": "execute_result",
          "data": {
            "text/plain": [
              "(['organize', 'organizes', 'organizing'], ['organ', 'organ', 'organ'])"
            ]
          },
          "metadata": {
            "tags": []
          },
          "execution_count": 23
        }
      ]
    },
    {
      "cell_type": "code",
      "metadata": {
        "id": "4a4ew6Tbzlky",
        "colab_type": "code",
        "colab": {
          "base_uri": "https://localhost:8080/",
          "height": 34
        },
        "outputId": "b7a38547-8fba-48eb-fbef-143b6c6434b3"
      },
      "source": [
        "word_list = ['universe', 'university']\n",
        "[wnl.lemmatize(word) for word in word_list] , [porter.stem(word) for word in word_list]"
      ],
      "execution_count": 24,
      "outputs": [
        {
          "output_type": "execute_result",
          "data": {
            "text/plain": [
              "(['universe', 'university'], ['univers', 'univers'])"
            ]
          },
          "metadata": {
            "tags": []
          },
          "execution_count": 24
        }
      ]
    },
    {
      "cell_type": "markdown",
      "metadata": {
        "id": "FfK4SXgznD-g",
        "colab_type": "text"
      },
      "source": [
        "fastai/course-nlp"
      ]
    },
    {
      "cell_type": "markdown",
      "metadata": {
        "id": "fWrZngwBnD-i",
        "colab_type": "text"
      },
      "source": [
        "Stemming and lemmatization are language dependent.  Languages with more complex morphologies may show bigger benefits.  For example, Sanskrit has a very [large number of verb forms](https://en.wikipedia.org/wiki/Sanskrit_verbs). "
      ]
    },
    {
      "cell_type": "markdown",
      "metadata": {
        "id": "jRe2cKqunD-k",
        "colab_type": "text"
      },
      "source": [
        "### Spacy"
      ]
    },
    {
      "cell_type": "markdown",
      "metadata": {
        "id": "zs8Tcm0hnD-l",
        "colab_type": "text"
      },
      "source": [
        "Stemming and lemmatization are implementation dependent."
      ]
    },
    {
      "cell_type": "markdown",
      "metadata": {
        "id": "7MYOBXSBnD-m",
        "colab_type": "text"
      },
      "source": [
        "Spacy is a very modern & fast nlp library. Spacy is opinionated, in that it typically offers one highly optimized way to do something (whereas nltk offers a huge variety of ways, although they are usually not as optimized).\n",
        "\n",
        "You will need to install it.\n",
        "\n",
        "if you use conda:\n",
        "```\n",
        "conda install -c conda-forge spacy\n",
        "```\n",
        "if you use pip:\n",
        "```\n",
        "pip install -U spacy\n",
        "```\n",
        "\n",
        "You will then need to download the English model:\n",
        "```\n",
        "spacy -m download en_core_web_sm\n",
        "```"
      ]
    },
    {
      "cell_type": "code",
      "metadata": {
        "id": "eHohdNbynD-o",
        "colab_type": "code",
        "colab": {}
      },
      "source": [
        "import spacy"
      ],
      "execution_count": 0,
      "outputs": []
    },
    {
      "cell_type": "code",
      "metadata": {
        "id": "kKZIWnA6nD-v",
        "colab_type": "code",
        "colab": {}
      },
      "source": [
        "from spacy.lemmatizer import Lemmatizer\n",
        "lemmatizer = Lemmatizer()"
      ],
      "execution_count": 0,
      "outputs": []
    },
    {
      "cell_type": "code",
      "metadata": {
        "id": "E2XIq6Kd0xcE",
        "colab_type": "code",
        "colab": {
          "base_uri": "https://localhost:8080/",
          "height": 34
        },
        "outputId": "59d84c82-d779-46fa-9957-ad324794e632"
      },
      "source": [
        "word_list"
      ],
      "execution_count": 27,
      "outputs": [
        {
          "output_type": "execute_result",
          "data": {
            "text/plain": [
              "['universe', 'university']"
            ]
          },
          "metadata": {
            "tags": []
          },
          "execution_count": 27
        }
      ]
    },
    {
      "cell_type": "code",
      "metadata": {
        "id": "ZEjtkRVMnD-2",
        "colab_type": "code",
        "outputId": "47cda5d7-b8da-47a1-f9a8-9789dd2b4f1e",
        "colab": {
          "base_uri": "https://localhost:8080/",
          "height": 34
        }
      },
      "source": [
        "[lemmatizer.lookup(word) for word in word_list]"
      ],
      "execution_count": 28,
      "outputs": [
        {
          "output_type": "execute_result",
          "data": {
            "text/plain": [
              "['universe', 'university']"
            ]
          },
          "metadata": {
            "tags": []
          },
          "execution_count": 28
        }
      ]
    },
    {
      "cell_type": "markdown",
      "metadata": {
        "id": "7kzxnsNmnD-_",
        "colab_type": "text"
      },
      "source": [
        "Spacy doesn't offer a stemmer (since lemmatization is considered better-- this is an example of being opinionated!)"
      ]
    },
    {
      "cell_type": "markdown",
      "metadata": {
        "id": "lqNARSJsnD_B",
        "colab_type": "text"
      },
      "source": [
        "Stop words vary from library to library"
      ]
    },
    {
      "cell_type": "code",
      "metadata": {
        "id": "WRe5TvVlnD_E",
        "colab_type": "code",
        "colab": {}
      },
      "source": [
        "nlp = spacy.load(\"en_core_web_sm\")"
      ],
      "execution_count": 0,
      "outputs": []
    },
    {
      "cell_type": "code",
      "metadata": {
        "id": "PlfYcFul06iN",
        "colab_type": "code",
        "colab": {
          "base_uri": "https://localhost:8080/",
          "height": 34
        },
        "outputId": "e4cf6641-9faa-4afd-d306-bfe052a4396c"
      },
      "source": [
        "len(list(nlp.Defaults.stop_words))"
      ],
      "execution_count": 30,
      "outputs": [
        {
          "output_type": "execute_result",
          "data": {
            "text/plain": [
              "326"
            ]
          },
          "metadata": {
            "tags": []
          },
          "execution_count": 30
        }
      ]
    },
    {
      "cell_type": "code",
      "metadata": {
        "id": "KID-_mRhnD_I",
        "colab_type": "code",
        "outputId": "cb0a730b-c75a-4139-cbc3-b2a491bad9fd",
        "colab": {
          "base_uri": "https://localhost:8080/",
          "height": 357
        }
      },
      "source": [
        "sorted(list(nlp.Defaults.stop_words))[:20]"
      ],
      "execution_count": 31,
      "outputs": [
        {
          "output_type": "execute_result",
          "data": {
            "text/plain": [
              "[\"'d\",\n",
              " \"'ll\",\n",
              " \"'m\",\n",
              " \"'re\",\n",
              " \"'s\",\n",
              " \"'ve\",\n",
              " 'a',\n",
              " 'about',\n",
              " 'above',\n",
              " 'across',\n",
              " 'after',\n",
              " 'afterwards',\n",
              " 'again',\n",
              " 'against',\n",
              " 'all',\n",
              " 'almost',\n",
              " 'alone',\n",
              " 'along',\n",
              " 'already',\n",
              " 'also']"
            ]
          },
          "metadata": {
            "tags": []
          },
          "execution_count": 31
        }
      ]
    },
    {
      "cell_type": "markdown",
      "metadata": {
        "id": "Zpzc2SrJnD_R",
        "colab_type": "text"
      },
      "source": [
        "#### Exercise: What stop words appear in spacy but not in sklearn?"
      ]
    },
    {
      "cell_type": "code",
      "metadata": {
        "id": "Qa3m0-Dv1rJP",
        "colab_type": "code",
        "colab": {
          "base_uri": "https://localhost:8080/",
          "height": 612
        },
        "outputId": "45379069-c84b-4872-ec1c-cf70fa2c5c60"
      },
      "source": [
        "#Exercise:\n",
        "nlp.Defaults.stop_words - stop_words.ENGLISH_STOP_WORDS"
      ],
      "execution_count": 32,
      "outputs": [
        {
          "output_type": "execute_result",
          "data": {
            "text/plain": [
              "{\"'d\",\n",
              " \"'ll\",\n",
              " \"'m\",\n",
              " \"'re\",\n",
              " \"'s\",\n",
              " \"'ve\",\n",
              " 'ca',\n",
              " 'did',\n",
              " 'does',\n",
              " 'doing',\n",
              " 'just',\n",
              " 'make',\n",
              " \"n't\",\n",
              " 'n‘t',\n",
              " 'n’t',\n",
              " 'quite',\n",
              " 'really',\n",
              " 'regarding',\n",
              " 'say',\n",
              " 'unless',\n",
              " 'used',\n",
              " 'using',\n",
              " 'various',\n",
              " '‘d',\n",
              " '‘ll',\n",
              " '‘m',\n",
              " '‘re',\n",
              " '‘s',\n",
              " '‘ve',\n",
              " '’d',\n",
              " '’ll',\n",
              " '’m',\n",
              " '’re',\n",
              " '’s',\n",
              " '’ve'}"
            ]
          },
          "metadata": {
            "tags": []
          },
          "execution_count": 32
        }
      ]
    },
    {
      "cell_type": "markdown",
      "metadata": {
        "heading_collapsed": true,
        "id": "V-GW7MqRnD_Y",
        "colab_type": "text"
      },
      "source": [
        "#### Exercise: And what stop words are in sklearn but not spacy?"
      ]
    },
    {
      "cell_type": "code",
      "metadata": {
        "hidden": true,
        "id": "AGibuEHUnD_Z",
        "colab_type": "code",
        "outputId": "70a2d3a8-90ac-4e93-e4bb-7cfe35ccca0a",
        "colab": {
          "base_uri": "https://localhost:8080/",
          "height": 476
        }
      },
      "source": [
        "#Exercise:\n",
        "stop_words.ENGLISH_STOP_WORDS - nlp.Defaults.stop_words"
      ],
      "execution_count": 33,
      "outputs": [
        {
          "output_type": "execute_result",
          "data": {
            "text/plain": [
              "frozenset({'amoungst',\n",
              "           'bill',\n",
              "           'cant',\n",
              "           'co',\n",
              "           'con',\n",
              "           'couldnt',\n",
              "           'cry',\n",
              "           'de',\n",
              "           'describe',\n",
              "           'detail',\n",
              "           'eg',\n",
              "           'etc',\n",
              "           'fill',\n",
              "           'find',\n",
              "           'fire',\n",
              "           'found',\n",
              "           'hasnt',\n",
              "           'ie',\n",
              "           'inc',\n",
              "           'interest',\n",
              "           'ltd',\n",
              "           'mill',\n",
              "           'sincere',\n",
              "           'system',\n",
              "           'thick',\n",
              "           'thin',\n",
              "           'un'})"
            ]
          },
          "metadata": {
            "tags": []
          },
          "execution_count": 33
        }
      ]
    },
    {
      "cell_type": "markdown",
      "metadata": {
        "heading_collapsed": true,
        "id": "PYNv2BIXnD_e",
        "colab_type": "text"
      },
      "source": [
        "### When to use these?"
      ]
    },
    {
      "cell_type": "markdown",
      "metadata": {
        "hidden": true,
        "id": "slrOk11AnD_g",
        "colab_type": "text"
      },
      "source": [
        "<img src=\"https://github.com/fastai/course-nlp/blob/master/images/skomoroch.png?raw=1\" alt=\"\" style=\"width: 65%\"/>"
      ]
    },
    {
      "cell_type": "markdown",
      "metadata": {
        "hidden": true,
        "id": "_7V9rK2RnD_i",
        "colab_type": "text"
      },
      "source": [
        "These were long considered standard techniques, but they can often **hurt** your performance **if using deep learning**. Stemming, lemmatization, and removing stop words all involve throwing away information.\n",
        "\n",
        "However, they can still be useful when working with simpler models."
      ]
    },
    {
      "cell_type": "markdown",
      "metadata": {
        "heading_collapsed": true,
        "id": "ltC0Iq7onD_j",
        "colab_type": "text"
      },
      "source": [
        "### Another approach: sub-word units"
      ]
    },
    {
      "cell_type": "markdown",
      "metadata": {
        "hidden": true,
        "id": "glh9Hg-EnD_l",
        "colab_type": "text"
      },
      "source": [
        "[SentencePiece](https://github.com/google/sentencepiece) library from Google"
      ]
    },
    {
      "cell_type": "markdown",
      "metadata": {
        "id": "_4izreVAnD_m",
        "colab_type": "text"
      },
      "source": [
        "## Data Processing"
      ]
    },
    {
      "cell_type": "markdown",
      "metadata": {
        "id": "y7nRLPFBnD_o",
        "colab_type": "text"
      },
      "source": [
        "Next, scikit learn has a method that will extract all the word counts for us.  In the next lesson, we'll learn how to write our own version of CountVectorizer, to see what's happening underneath the hood."
      ]
    },
    {
      "cell_type": "code",
      "metadata": {
        "id": "_dpNtM_2nD_q",
        "colab_type": "code",
        "colab": {}
      },
      "source": [
        "from sklearn.feature_extraction.text import CountVectorizer, TfidfVectorizer"
      ],
      "execution_count": 0,
      "outputs": []
    },
    {
      "cell_type": "code",
      "metadata": {
        "id": "WgP9G5ZAnD_u",
        "colab_type": "code",
        "colab": {}
      },
      "source": [
        "import nltk\n",
        "# nltk.download('punkt')"
      ],
      "execution_count": 0,
      "outputs": []
    },
    {
      "cell_type": "code",
      "metadata": {
        "id": "4M0cTQhrnD_1",
        "colab_type": "code",
        "colab": {}
      },
      "source": [
        "# from nltk import word_tokenize\n",
        "\n",
        "# class LemmaTokenizer(object):\n",
        "#     def __init__(self):\n",
        "#         self.wnl = stem.WordNetLemmatizer()\n",
        "#     def __call__(self, doc):\n",
        "#         return [self.wnl.lemmatize(t) for t in word_tokenize(doc)]"
      ],
      "execution_count": 0,
      "outputs": []
    },
    {
      "cell_type": "code",
      "metadata": {
        "id": "whnCHpMLnD_5",
        "colab_type": "code",
        "colab": {}
      },
      "source": [
        "vectorizer = CountVectorizer(stop_words='english') #, tokenizer=LemmaTokenizer())"
      ],
      "execution_count": 0,
      "outputs": []
    },
    {
      "cell_type": "code",
      "metadata": {
        "id": "0IryCrG7nD__",
        "colab_type": "code",
        "outputId": "ac9d7f42-93e6-43fe-f659-5e4b14619161",
        "colab": {
          "base_uri": "https://localhost:8080/",
          "height": 34
        }
      },
      "source": [
        "vectors = vectorizer.fit_transform(newsgroups_train.data).todense() # (documents, vocab)\n",
        "vectors.shape #, vectors.nnz / vectors.shape[0], row_means.shape"
      ],
      "execution_count": 38,
      "outputs": [
        {
          "output_type": "execute_result",
          "data": {
            "text/plain": [
              "(2034, 26576)"
            ]
          },
          "metadata": {
            "tags": []
          },
          "execution_count": 38
        }
      ]
    },
    {
      "cell_type": "code",
      "metadata": {
        "scrolled": true,
        "id": "SSkJh4_xnEAN",
        "colab_type": "code",
        "outputId": "eda89ef4-6e05-474c-f945-57387e33ef16",
        "colab": {
          "base_uri": "https://localhost:8080/",
          "height": 34
        }
      },
      "source": [
        "print(len(newsgroups_train.data), vectors.shape)"
      ],
      "execution_count": 39,
      "outputs": [
        {
          "output_type": "stream",
          "text": [
            "2034 (2034, 26576)\n"
          ],
          "name": "stdout"
        }
      ]
    },
    {
      "cell_type": "code",
      "metadata": {
        "id": "80GjPywnnEAX",
        "colab_type": "code",
        "colab": {}
      },
      "source": [
        "vocab = np.array(vectorizer.get_feature_names())"
      ],
      "execution_count": 0,
      "outputs": []
    },
    {
      "cell_type": "code",
      "metadata": {
        "id": "lwJv9sRsnEAb",
        "colab_type": "code",
        "outputId": "0301cd59-0799-46f3-ab5a-412badbe2b97",
        "colab": {
          "base_uri": "https://localhost:8080/",
          "height": 34
        }
      },
      "source": [
        "vocab.shape"
      ],
      "execution_count": 41,
      "outputs": [
        {
          "output_type": "execute_result",
          "data": {
            "text/plain": [
              "(26576,)"
            ]
          },
          "metadata": {
            "tags": []
          },
          "execution_count": 41
        }
      ]
    },
    {
      "cell_type": "code",
      "metadata": {
        "id": "Bdljw5jK-HK6",
        "colab_type": "code",
        "colab": {
          "base_uri": "https://localhost:8080/",
          "height": 292
        },
        "outputId": "e8c1dee5-07b9-496d-9694-b55931e5f261"
      },
      "source": [
        "vocab[:100]"
      ],
      "execution_count": 42,
      "outputs": [
        {
          "output_type": "execute_result",
          "data": {
            "text/plain": [
              "array(['00', '000', '0000', '00000', '000000', '000005102000',\n",
              "       '000062david42', '0001', '000100255pixel', '00041032', '0004136',\n",
              "       '0004246', '0004422', '00044513', '0004847546', '0005', '0007',\n",
              "       '00090711', '000usd', '0012', '001200201pixel', '0018', '00196',\n",
              "       '0020', '0022', '0028', '0029', '0033', '0034', '0038', '0049',\n",
              "       '006', '0065', '0094', '0098', '00index', '00pm', '01', '0100',\n",
              "       '013846', '01752', '0179', '01821', '01826', '0184', '01852',\n",
              "       '01854', '01890', '018b', '0195', '0199', '01a', '02', '020',\n",
              "       '0200', '020359', '020637', '02115', '02138', '02139', '02154',\n",
              "       '02178', '0223', '0235', '023b', '0245', '03', '030', '0300',\n",
              "       '03051', '0330', '034', '034101', '04', '040', '040286', '0410',\n",
              "       '04110', '041493003715', '0418', '045', '04g', '05', '050', '0500',\n",
              "       '050524', '0511', '05402', '05446', '0545', '054589e', '058', '06',\n",
              "       '060', '0605', '06111', '06179397', '06487', '0649', '067'],\n",
              "      dtype='<U80')"
            ]
          },
          "metadata": {
            "tags": []
          },
          "execution_count": 42
        }
      ]
    },
    {
      "cell_type": "code",
      "metadata": {
        "id": "KgZZkYe-nEAf",
        "colab_type": "code",
        "outputId": "11fad345-5ae7-478d-9494-b77cab5c3687",
        "colab": {
          "base_uri": "https://localhost:8080/",
          "height": 122
        }
      },
      "source": [
        "vocab[8000:8020]"
      ],
      "execution_count": 43,
      "outputs": [
        {
          "output_type": "execute_result",
          "data": {
            "text/plain": [
              "array(['detects', 'deter', 'deteriorated', 'deterioration', 'determinant',\n",
              "       'determination', 'determinations', 'determine', 'determined',\n",
              "       'determines', 'determininant', 'determining', 'determinism',\n",
              "       'determnined', 'deterrant', 'deterrent', 'deterring', 'deters',\n",
              "       'detest', 'detonate'], dtype='<U80')"
            ]
          },
          "metadata": {
            "tags": []
          },
          "execution_count": 43
        }
      ]
    },
    {
      "cell_type": "markdown",
      "metadata": {
        "id": "5GhAZtC0nEAn",
        "colab_type": "text"
      },
      "source": [
        "## Singular Value Decomposition (SVD)"
      ]
    },
    {
      "cell_type": "markdown",
      "metadata": {
        "id": "4WKXGnD3nEAo",
        "colab_type": "text"
      },
      "source": [
        "\"SVD is not nearly as famous as it should be.\" - Gilbert Strang"
      ]
    },
    {
      "cell_type": "markdown",
      "metadata": {
        "id": "mCT7MWY5nEAp",
        "colab_type": "text"
      },
      "source": [
        "We would clearly expect that the words that appear most frequently in one topic would appear less frequently in the other - otherwise that word wouldn't make a good choice to separate out the two topics. Therefore, we expect the topics to be **orthogonal**.\n",
        "\n",
        "The SVD algorithm factorizes a matrix into one matrix with **orthogonal columns** and one with **orthogonal rows** (along with a diagonal matrix, which contains the **relative importance** of each factor).\n",
        "\n",
        "<img src=\"https://github.com/fastai/course-nlp/blob/master/images/svd_fb.png?raw=1\" alt=\"\" style=\"width: 80%\"/>\n",
        "(source: [Facebook Research: Fast Randomized SVD](https://research.fb.com/fast-randomized-svd/))\n",
        "\n",
        "SVD is an **exact decomposition**, since the matrices it creates are big enough to fully cover the original matrix. SVD is extremely widely used in linear algebra, and specifically in data science, including:\n",
        "\n",
        "- semantic analysis\n",
        "- collaborative filtering/recommendations ([winning entry for Netflix Prize](https://datajobs.com/data-science-repo/Recommender-Systems-%5BNetflix%5D.pdf))\n",
        "- calculate Moore-Penrose pseudoinverse\n",
        "- data compression\n",
        "- principal component analysis"
      ]
    },
    {
      "cell_type": "markdown",
      "metadata": {
        "id": "bqoHgvRsnEAr",
        "colab_type": "text"
      },
      "source": [
        "Latent Semantic Analysis (LSA) uses SVD.  You will sometimes hear topic modelling referred to as LSA."
      ]
    },
    {
      "cell_type": "code",
      "metadata": {
        "id": "i0QCldC6Eafs",
        "colab_type": "code",
        "colab": {
          "base_uri": "https://localhost:8080/",
          "height": 34
        },
        "outputId": "e8b84145-a131-4098-a3d2-edd8319d6edd"
      },
      "source": [
        "vectors.shape"
      ],
      "execution_count": 44,
      "outputs": [
        {
          "output_type": "execute_result",
          "data": {
            "text/plain": [
              "(2034, 26576)"
            ]
          },
          "metadata": {
            "tags": []
          },
          "execution_count": 44
        }
      ]
    },
    {
      "cell_type": "code",
      "metadata": {
        "id": "cXlpzqGgnEAv",
        "colab_type": "code",
        "outputId": "d696f47e-134c-4ddf-e9bb-289855b9d2b0",
        "colab": {
          "base_uri": "https://localhost:8080/",
          "height": 51
        }
      },
      "source": [
        "%time U, s, Vh = linalg.svd(vectors, full_matrices=False)"
      ],
      "execution_count": 45,
      "outputs": [
        {
          "output_type": "stream",
          "text": [
            "CPU times: user 1min 12s, sys: 4.01 s, total: 1min 16s\n",
            "Wall time: 39.3 s\n"
          ],
          "name": "stdout"
        }
      ]
    },
    {
      "cell_type": "code",
      "metadata": {
        "id": "QnDx1fj3nEA9",
        "colab_type": "code",
        "outputId": "51586159-d305-48ff-ffd2-b620ab0033d9",
        "colab": {
          "base_uri": "https://localhost:8080/",
          "height": 34
        }
      },
      "source": [
        "print(U.shape, s.shape, Vh.shape)"
      ],
      "execution_count": 46,
      "outputs": [
        {
          "output_type": "stream",
          "text": [
            "(2034, 2034) (2034,) (2034, 26576)\n"
          ],
          "name": "stdout"
        }
      ]
    },
    {
      "cell_type": "markdown",
      "metadata": {
        "id": "q6U-Jr1gnEBD",
        "colab_type": "text"
      },
      "source": [
        "Confirm this is a decomposition of the input."
      ]
    },
    {
      "cell_type": "code",
      "metadata": {
        "id": "MZLb9C4TnEBF",
        "colab_type": "code",
        "outputId": "62ff9b4f-7e97-4b82-9d60-7b957a62233e",
        "colab": {}
      },
      "source": [
        "s[:4]"
      ],
      "execution_count": 0,
      "outputs": [
        {
          "output_type": "execute_result",
          "data": {
            "text/plain": [
              "array([433.92698542, 291.51012741, 240.71137677, 220.00048043])"
            ]
          },
          "metadata": {
            "tags": []
          },
          "execution_count": 157
        }
      ]
    },
    {
      "cell_type": "code",
      "metadata": {
        "id": "6c3V-vEqnEBQ",
        "colab_type": "code",
        "outputId": "bbe7ccf1-2c7a-4b81-97ed-e0c28da7476b",
        "colab": {}
      },
      "source": [
        "np.diag(np.diag(s[:4]))"
      ],
      "execution_count": 0,
      "outputs": [
        {
          "output_type": "execute_result",
          "data": {
            "text/plain": [
              "array([433.92698542, 291.51012741, 240.71137677, 220.00048043])"
            ]
          },
          "metadata": {
            "tags": []
          },
          "execution_count": 158
        }
      ]
    },
    {
      "cell_type": "markdown",
      "metadata": {
        "id": "tm7CKf_vnEBW",
        "colab_type": "text"
      },
      "source": [
        "#### Answer"
      ]
    },
    {
      "cell_type": "code",
      "metadata": {
        "id": "EDUN05wLAgnb",
        "colab_type": "code",
        "colab": {
          "base_uri": "https://localhost:8080/",
          "height": 34
        },
        "outputId": "9a662692-854e-4426-fd10-a498d3115f59"
      },
      "source": [
        "#Confirm this is a decomposition of the input.\n",
        "\n",
        "## np.diag can go back and forth between 1d array and diagonal matrices \n",
        "  \n",
        "reconstructed_vectors = U @ np.diag(s) @ Vh\n",
        "np.linalg.norm(reconstructed_vectors-vectors) , np.allclose(reconstructed_vectors,vectors)"
      ],
      "execution_count": 47,
      "outputs": [
        {
          "output_type": "execute_result",
          "data": {
            "text/plain": [
              "(3.0400655704971045e-12, True)"
            ]
          },
          "metadata": {
            "tags": []
          },
          "execution_count": 47
        }
      ]
    },
    {
      "cell_type": "markdown",
      "metadata": {
        "id": "iP9qioeZnEBk",
        "colab_type": "text"
      },
      "source": [
        "Confirm that U, V are orthonormal"
      ]
    },
    {
      "cell_type": "markdown",
      "metadata": {
        "heading_collapsed": true,
        "id": "Yv1r4hUUnEBm",
        "colab_type": "text"
      },
      "source": [
        "#### Answer"
      ]
    },
    {
      "cell_type": "code",
      "metadata": {
        "hidden": true,
        "id": "DVugxelonEBo",
        "colab_type": "code",
        "outputId": "b6cbda1c-4172-47d6-c8cf-ad2257178f09",
        "colab": {
          "base_uri": "https://localhost:8080/",
          "height": 34
        }
      },
      "source": [
        "#Exercise: Confirm that U, Vh are orthonormal\n",
        "\n",
        "x = np.allclose(U.T @ U, np.eye(U.shape[0])) #because columns of U are orthonormal\n",
        "y = np.allclose(Vh @ Vh.T, np.eye(Vh.shape[0])) #beacuse the rows are orthonormal\n",
        "\n",
        "x,y"
      ],
      "execution_count": 48,
      "outputs": [
        {
          "output_type": "execute_result",
          "data": {
            "text/plain": [
              "(True, True)"
            ]
          },
          "metadata": {
            "tags": []
          },
          "execution_count": 48
        }
      ]
    },
    {
      "cell_type": "markdown",
      "metadata": {
        "heading_collapsed": true,
        "id": "AhxetHtpnEB2",
        "colab_type": "text"
      },
      "source": [
        "#### Topics"
      ]
    },
    {
      "cell_type": "markdown",
      "metadata": {
        "hidden": true,
        "id": "ulwnnA41nEB4",
        "colab_type": "text"
      },
      "source": [
        "What can we say about the singular values s?"
      ]
    },
    {
      "cell_type": "code",
      "metadata": {
        "hidden": true,
        "id": "Nfc2sc4EnEB6",
        "colab_type": "code",
        "outputId": "6b672bd2-b54a-4b82-fa5e-3ee168ce25f5",
        "colab": {
          "base_uri": "https://localhost:8080/",
          "height": 269
        }
      },
      "source": [
        "plt.plot(s);"
      ],
      "execution_count": 49,
      "outputs": [
        {
          "output_type": "display_data",
          "data": {
            "image/png": "[encoded data removed]",
            "text/plain": [
              "<Figure size 432x288 with 1 Axes>"
            ]
          },
          "metadata": {
            "tags": []
          }
        }
      ]
    },
    {
      "cell_type": "code",
      "metadata": {
        "hidden": true,
        "id": "v65e5kdOnECN",
        "colab_type": "code",
        "outputId": "20d26221-3a9b-40d1-dac4-c9a983ce7a75",
        "colab": {
          "base_uri": "https://localhost:8080/",
          "height": 287
        }
      },
      "source": [
        "plt.plot(s[:10])"
      ],
      "execution_count": 50,
      "outputs": [
        {
          "output_type": "execute_result",
          "data": {
            "text/plain": [
              "[<matplotlib.lines.Line2D at 0x7feabf78cf98>]"
            ]
          },
          "metadata": {
            "tags": []
          },
          "execution_count": 50
        },
        {
          "output_type": "display_data",
          "data": {
            "image/png": "[encoded data removed]",
            "text/plain": [
              "<Figure size 432x288 with 1 Axes>"
            ]
          },
          "metadata": {
            "tags": []
          }
        }
      ]
    },
    {
      "cell_type": "code",
      "metadata": {
        "id": "jkpTARzaIIsC",
        "colab_type": "code",
        "colab": {
          "base_uri": "https://localhost:8080/",
          "height": 34
        },
        "outputId": "1ecd0c2a-7e0b-4d7e-aece-7755e7a74271"
      },
      "source": [
        "testlist = [2,3,5,8,2]\n",
        "np.argsort(testlist)\n",
        "testlist[:-4:-1] #last 3 items in reverse order"
      ],
      "execution_count": 58,
      "outputs": [
        {
          "output_type": "execute_result",
          "data": {
            "text/plain": [
              "[2, 8, 5]"
            ]
          },
          "metadata": {
            "tags": []
          },
          "execution_count": 58
        }
      ]
    },
    {
      "cell_type": "code",
      "metadata": {
        "hidden": true,
        "id": "_sbK6tB-nECU",
        "colab_type": "code",
        "colab": {}
      },
      "source": [
        "num_top_words=8\n",
        "\n",
        "def show_topics(a):\n",
        "    top_words = lambda t: [vocab[i] for i in np.argsort(t)[:-num_top_words-1:-1]]\n",
        "    topic_words = ([top_words(t) for t in a])\n",
        "    return [' '.join(t) for t in topic_words]"
      ],
      "execution_count": 0,
      "outputs": []
    },
    {
      "cell_type": "code",
      "metadata": {
        "hidden": true,
        "id": "8CmwlBYnnECZ",
        "colab_type": "code",
        "outputId": "6604a8e2-f486-416e-d91c-6b37de21eb43",
        "colab": {
          "base_uri": "https://localhost:8080/",
          "height": 207
        }
      },
      "source": [
        "show_topics(Vh[:10])"
      ],
      "execution_count": 60,
      "outputs": [
        {
          "output_type": "execute_result",
          "data": {
            "text/plain": [
              "['ditto critus propagandist surname galacticentric kindergarten surreal imaginative',\n",
              " 'jpeg gif file color quality image jfif format',\n",
              " 'graphics edu pub mail 128 3d ray ftp',\n",
              " 'jesus god matthew people atheists atheism does graphics',\n",
              " 'image data processing analysis software available tools display',\n",
              " 'god atheists atheism religious believe religion argument true',\n",
              " 'space nasa lunar mars probe moon missions probes',\n",
              " 'image probe surface lunar mars probes moon orbit',\n",
              " 'argument fallacy conclusion example true ad argumentum premises',\n",
              " 'space larson image theory universe physical nasa material']"
            ]
          },
          "metadata": {
            "tags": []
          },
          "execution_count": 60
        }
      ]
    },
    {
      "cell_type": "markdown",
      "metadata": {
        "hidden": true,
        "id": "oqvI2Za8nECp",
        "colab_type": "text"
      },
      "source": [
        "We get topics that match the kinds of clusters we would expect! This is despite the fact that this is an **unsupervised algorithm** - which is to say, we never actually told the algorithm how our documents are grouped."
      ]
    },
    {
      "cell_type": "markdown",
      "metadata": {
        "hidden": true,
        "id": "otNad41YnECy",
        "colab_type": "text"
      },
      "source": [
        "We will return to SVD in **much more detail** later.  For now, the important takeaway is that we have a tool that allows us to exactly factor a matrix into orthogonal columns and orthogonal rows."
      ]
    },
    {
      "cell_type": "markdown",
      "metadata": {
        "id": "vP2DqwVBJejg",
        "colab_type": "text"
      },
      "source": [
        "me : so far we have cosidered 2034 topic(like the nu,ber of documents), later we will learn how to truncate them."
      ]
    },
    {
      "cell_type": "markdown",
      "metadata": {
        "id": "a2Le0OqVnECz",
        "colab_type": "text"
      },
      "source": [
        "## Non-negative Matrix Factorization (NMF)"
      ]
    },
    {
      "cell_type": "markdown",
      "metadata": {
        "id": "Faz7MZg_nEC1",
        "colab_type": "text"
      },
      "source": [
        "#### Motivation"
      ]
    },
    {
      "cell_type": "markdown",
      "metadata": {
        "id": "DnnxYp9onEC8",
        "colab_type": "text"
      },
      "source": [
        "<img src=\"https://github.com/fastai/course-nlp/blob/master/images/face_pca.png?raw=1\" alt=\"PCA on faces\" style=\"width: 80%\"/>\n",
        "\n",
        "(source: [NMF Tutorial](http://perso.telecom-paristech.fr/~essid/teach/NMF_tutorial_ICME-2014.pdf))\n",
        "\n",
        "A more interpretable approach:\n",
        "\n",
        "<img src=\"https://github.com/fastai/course-nlp/blob/master/images/face_outputs.png?raw=1\" alt=\"NMF on Faces\" style=\"width: 80%\"/>\n",
        "\n",
        "(source: [NMF Tutorial](http://perso.telecom-paristech.fr/~essid/teach/NMF_tutorial_ICME-2014.pdf))"
      ]
    },
    {
      "cell_type": "markdown",
      "metadata": {
        "id": "pvVeFWtMnEC9",
        "colab_type": "text"
      },
      "source": [
        "#### Idea"
      ]
    },
    {
      "cell_type": "markdown",
      "metadata": {
        "id": "duC5_8VvnEC-",
        "colab_type": "text"
      },
      "source": [
        "Rather than constraining our factors to be *orthogonal*, another idea would to constrain them to be *non-negative*. NMF is a factorization of a non-negative data set $V$: $$ V = W H$$ into non-negative matrices $W,\\; H$. Often positive factors will be **more easily interpretable** (and this is the reason behind NMF's popularity). \n",
        "\n",
        "<img src=\"https://github.com/fastai/course-nlp/blob/master/images/face_nmf.png?raw=1\" alt=\"NMF on faces\" style=\"width: 80%\"/>\n",
        "\n",
        "(source: [NMF Tutorial](http://perso.telecom-paristech.fr/~essid/teach/NMF_tutorial_ICME-2014.pdf))\n",
        "\n",
        "Nonnegative matrix factorization (NMF) is a non-exact factorization that factors into one skinny positive matrix and one short positive matrix.  NMF is NP-hard and non-unique.  There are a number of variations on it, created by adding different constraints. "
      ]
    },
    {
      "cell_type": "markdown",
      "metadata": {
        "id": "tBsC0k1SnEC_",
        "colab_type": "text"
      },
      "source": [
        "#### Applications of NMF"
      ]
    },
    {
      "cell_type": "markdown",
      "metadata": {
        "id": "KxeeXBn5nEDA",
        "colab_type": "text"
      },
      "source": [
        "- [Face Decompositions](http://scikit-learn.org/stable/auto_examples/decomposition/plot_faces_decomposition.html#sphx-glr-auto-examples-decomposition-plot-faces-decomposition-py)\n",
        "- [Collaborative Filtering, eg movie recommendations](http://www.quuxlabs.com/blog/2010/09/matrix-factorization-a-simple-tutorial-and-implementation-in-python/)\n",
        "- [Audio source separation](https://pdfs.semanticscholar.org/cc88/0b24791349df39c5d9b8c352911a0417df34.pdf)\n",
        "- [Chemistry](http://ieeexplore.ieee.org/document/1532909/)\n",
        "- [Bioinformatics](https://bmcbioinformatics.biomedcentral.com/articles/10.1186/s12859-015-0485-4) and [Gene Expression](https://www.ncbi.nlm.nih.gov/pmc/articles/PMC2623306/)\n",
        "- Topic Modeling (our problem!)\n",
        "\n",
        "<img src=\"https://github.com/fastai/course-nlp/blob/master/images/nmf_doc.png?raw=1\" alt=\"NMF on documents\" style=\"width: 80%\"/>\n",
        "\n",
        "(source: [NMF Tutorial](http://perso.telecom-paristech.fr/~essid/teach/NMF_tutorial_ICME-2014.pdf))"
      ]
    },
    {
      "cell_type": "markdown",
      "metadata": {
        "id": "0hUIgW_YnEDB",
        "colab_type": "text"
      },
      "source": [
        "**More Reading**:\n",
        "\n",
        "- [The Why and How of Nonnegative Matrix Factorization](https://arxiv.org/pdf/1401.5226.pdf)"
      ]
    },
    {
      "cell_type": "markdown",
      "metadata": {
        "id": "i9JNyhlenEDC",
        "colab_type": "text"
      },
      "source": [
        "### NMF from sklearn"
      ]
    },
    {
      "cell_type": "markdown",
      "metadata": {
        "id": "HhumWfx8nEDD",
        "colab_type": "text"
      },
      "source": [
        "We will use [scikit-learn's implementation of NMF](http://scikit-learn.org/stable/modules/generated/sklearn.decomposition.NMF.html):"
      ]
    },
    {
      "cell_type": "code",
      "metadata": {
        "id": "xXFct3YWnEDE",
        "colab_type": "code",
        "colab": {
          "base_uri": "https://localhost:8080/",
          "height": 34
        },
        "outputId": "742c9168-19e2-46cc-926a-29564b4c0062"
      },
      "source": [
        "m,n=vectors.shape\n",
        "d=5  # num topics\n",
        "\n",
        "m,n"
      ],
      "execution_count": 61,
      "outputs": [
        {
          "output_type": "execute_result",
          "data": {
            "text/plain": [
              "(2034, 26576)"
            ]
          },
          "metadata": {
            "tags": []
          },
          "execution_count": 61
        }
      ]
    },
    {
      "cell_type": "code",
      "metadata": {
        "id": "8fpqW29AnEDH",
        "colab_type": "code",
        "colab": {}
      },
      "source": [
        "clf = decomposition.NMF(n_components=d, random_state=1)\n",
        "\n",
        "W1 = clf.fit_transform(vectors)\n",
        "H1 = clf.components_"
      ],
      "execution_count": 0,
      "outputs": []
    },
    {
      "cell_type": "code",
      "metadata": {
        "id": "kY2GyRnOTjmD",
        "colab_type": "code",
        "colab": {
          "base_uri": "https://localhost:8080/",
          "height": 34
        },
        "outputId": "c9fd0390-d252-4cf8-9ea1-62f6f563f38d"
      },
      "source": [
        "W1.shape , H1.shape"
      ],
      "execution_count": 63,
      "outputs": [
        {
          "output_type": "execute_result",
          "data": {
            "text/plain": [
              "((2034, 5), (5, 26576))"
            ]
          },
          "metadata": {
            "tags": []
          },
          "execution_count": 63
        }
      ]
    },
    {
      "cell_type": "code",
      "metadata": {
        "id": "hZZMQVjNnEDQ",
        "colab_type": "code",
        "outputId": "22fde0c4-fef4-46d3-bd35-11ee35818e84",
        "colab": {
          "base_uri": "https://localhost:8080/",
          "height": 102
        }
      },
      "source": [
        "show_topics(H1)"
      ],
      "execution_count": 64,
      "outputs": [
        {
          "output_type": "execute_result",
          "data": {
            "text/plain": [
              "['jpeg image gif file color images format quality',\n",
              " 'edu graphics pub mail 128 ray ftp send',\n",
              " 'space launch satellite nasa commercial satellites year market',\n",
              " 'jesus god people matthew atheists does atheism said',\n",
              " 'image data available software processing ftp edu analysis']"
            ]
          },
          "metadata": {
            "tags": []
          },
          "execution_count": 64
        }
      ]
    },
    {
      "cell_type": "markdown",
      "metadata": {
        "id": "Wj051yT4nEDV",
        "colab_type": "text"
      },
      "source": [
        "### TF-IDF"
      ]
    },
    {
      "cell_type": "markdown",
      "metadata": {
        "id": "LZYYcJRvnEDW",
        "colab_type": "text"
      },
      "source": [
        "[Topic Frequency-Inverse Document Frequency](http://www.tfidf.com/) (TF-IDF) is a way to normalize term counts by taking into account how often they appear in a document, how long the document is, and how commmon/rare the term is.\n",
        "\n",
        "TF = (# occurrences of term t in document) / (# of words in documents)\n",
        "\n",
        "IDF = log(# of documents / # documents with term t in it)"
      ]
    },
    {
      "cell_type": "code",
      "metadata": {
        "id": "dCoFe4y9nEDX",
        "colab_type": "code",
        "colab": {}
      },
      "source": [
        "vectorizer_tfidf = TfidfVectorizer(stop_words='english')\n",
        "vectors_tfidf = vectorizer_tfidf.fit_transform(newsgroups_train.data) # (documents, vocab)"
      ],
      "execution_count": 0,
      "outputs": []
    },
    {
      "cell_type": "code",
      "metadata": {
        "id": "V-stHSIynEDc",
        "colab_type": "code",
        "outputId": "dc8d83a6-946b-470c-81da-8811d967c7a0",
        "colab": {
          "base_uri": "https://localhost:8080/",
          "height": 207
        }
      },
      "source": [
        "newsgroups_train.data[10:20]"
      ],
      "execution_count": 66,
      "outputs": [
        {
          "output_type": "execute_result",
          "data": {
            "text/plain": [
              "[\"a\\n\\nWhat about positional uncertainties in S-L 1993e?   I assume we know where\\nand what Galileo is doing within a few meters.   But without the\\nHGA,  don't we have to have some pretty good ideas, of where to look\\nbefore imaging?  If the HGA was working,  they could slew around\\nin near real time (Less speed of light delay).  But when they were\\nimaging toutatis????  didn't someone have to get lucky on a guess to\\nfind the first images?   \\n\\nAlso, I imagine S-L 1993e will be mostly a visual image.  so how will\\nthat affect the other imaging missions.  with the LGA,  there is a real\\ntight allocation of bandwidth.   It may be premature to hope for answers,\\nbut I thought i'd throw it on the floor.\",\n",
              " \"I would like to program Tseng ET4000 to nonstandard 1024x768 mode by\\nswitching to standard 1024x768 mode using BIOS and than changing some\\ntiming details (0x3D4 registers 0x00-0x1F) but I don't know how to\\nselect 36 MHz pixel clock I need. The BIOS function selects 40 MHz.\\n\\nIs there anybody who knows where to obtain technical info about this.\\nI am also interested in any other technical information about Tseng ET4000\\nand Trident 8900 and 9000 chipsets.\\n\\n\\t\\t\\tthanks very much\",\n",
              " 'In-Reply-To: <20APR199312262902@rigel.tamu.edu> lmp8913@rigel.tamu.edu (PRESTON, LISA M)',\n",
              " \"\\n\\n\\n\\nI'm not sure, but it almost sounds like they can't figure out where the \\n_nucleus_ is within the coma. If they're off by a couple hundred\\nmiles, well, you can imagine the rest...\\n\",\n",
              " \"Hello,\\n     I am looking to add voice input capability to a user interface I am\\ndeveloping on an HP730 (UNIX) workstation.  I would greatly appreciate \\ninformation anyone would care to offer about voice input systems that are \\neasily accessible from the UNIX environment. \\n\\n     The names or adresses of applicable vendors, as well as any \\nexperiences you have had with specific systems, would be very helpful.\\n\\n     Please respond via email; I will post a summary if there is \\nsufficient interest.\\n\\n\\nThanks,\\nKen\\n\\n\\nP.S.  I have found several impressive systems for IBM PC's, but I would \\nlike to avoid the hassle of purchasing and maintaining a separate PC if \\nat all possible.\\n\\n-------------------------------------------------------------------------------\\nKen Hinckley (kph2q@virginia.edu)\\nUniversity of Virginia \\nNeurosurgical Visualization Laboratory\",\n",
              " '\\nIt was a test of the first reusable tool.\\n\\n\\nPointy so they can find them or so they will stick into their pants better, and\\nbe closer to their brains?',\n",
              " '\\nSize of armies, duration, numbers of casualties both absolute and as a\\npercentage of those involved, geographical area and numbers of countries\\ntoo, are all measures of size.  In this case I\\'d say the relevant\\nstatistic would be the number of combatants (total troops) compared to\\ntotal casualties from among the total civilian population in the\\naffected geographical area.\\n\\n\\nVietnam and Korea might make good comparisons.\\n\\n\\nWestern news in general, but in particular the American \"mass media\":\\nCBS, NBC, ABC, etc.  The general tone of the news during the whole\\nwar was one of \"those poor, poor Iraqis\" along with \"look how precisely\\nthis cruise missile blew this building to bits\".\\n\\n\\nI agree.\\n\\n\\nPerhaps so.  And maybe the atomic bomb was a mistake too.  But that\\'s easy\\nto say from our \"enlightened\" viewpoint here in the 90\\'s, right?  Back\\nthen, it was *all-out* war, and Germany and Japan had to be squashed.\\nAfter all, a million or more British had already died, hundreds of \\nthousands of French, a couple hundread thousand or so Americans, and \\nmillions of Russians, not to mention a few million Jews, Poles, and \\nother people of slavic descent in German concentration camps.  All \\nthings considered, the fire-bombings and the atomic bomb were\\nessential (and therefore justified) in bringing the war to a quick\\nend to avoid even greater allied losses.\\n\\nI, for one, don\\'t regret it.\\n\\n\\nSure.  And it\\'s the people who suffer because of them.  All the more\\nreason to depose these \"entrenched political rulers operating in their\\nown selfish interests\"!  Or do you mean that this applies to the allies\\nas well??\\n\\n\\nI make no claim or effort to justify the misguided foreign policy of the\\nWest before the war.  It is evident that the West, especially America,\\nmisjudged Hussein drastically.  But once Hussein invaded Kuwait and \\nthreatened to militarily corner a significant portion of the world\\'s\\noil supply, he had to be stopped.  Sure the war could have been\\nprevented by judicious and concerted effort on the part of the West\\nbefore Hussein invaded Kuwait, but it is still *Hussein* who is\\nresponsible for his decision to invade.  And once he did so, a\\nstrong response from the West was required.\\n\\n\\nWell, it\\'s not very \"loving\" to allow a Hussein or a Hitler to gobble up\\nnearby countries and keep them.  Or to allow them to continue with mass\\nslaughter of certain peoples under their dominion.  So, I\\'d have to\\nsay yes, stopping Hussein was the most \"loving\" thing to do for the\\nmost people involved once he set his mind on military conquest.\\n\\nI mentioned it.\\n\\nIf we hadn\\'t intervened, allowing Hussein to keep Kuwait, then it would\\nhave been appeasement.  It is precisely the lessons the world learned\\nin WW2 that motivated the Western alliance to war.  Letting Hitler take\\nAustria and Czechoslavkia did not stop WW2 from happening, and letting\\nHussein keep Kuwait would not have stopped an eventual Gulf War to\\nprotect Saudi Arabia.\\n\\n\\nSure.  What was truly unfortunate was that they followed Hitler in\\nhis grandiose quest for a \"Thousand Year Reich\".  The consequences\\nstemmed from that.\\n\\nWhat should I say about them?  Anything in particular?\\n\\n\\n\\nSo?  It was the *policemen* on trial not Rodney King!!  And under American\\nlaw they deserved a jury of *their* peers!  If there had been black\\nofficers involved, I\\'m sure their would have been black jurors too.\\nThis point (of allegedly racial motivations) is really shallow.\\n\\n\\nSo?  It\\'s \"hard to imagine\"?  So when has Argument from Incredulity\\ngained acceptance from the revered author of \"Constructing a Logical\\nArgument\"?  Can we expect another revision soon??  :)  (Just kidding.)\\n\\n\\nI have to admit that I wonder this too.  But *neither* the prosecution\\nnor the defense is talking.  So one cannot conclude either way due to\\nthe silence of the principals.  \\n\\n\\nOK.  It certainly seemed to me that there was excessive force involved.\\nAnd frankly, the original \"not guilty\" verdict baffled me too.  But then\\nI learned that the prosecution in the first case did not try to convict\\non a charge of excessive force or simple assault which they probably\\nwould have won, they tried to get a conviction on a charge of aggravated\\nassault with intent to inflict serious bodily harm.  A charge, which\\nnews commentators said, was akin to attempted murder under California\\nlaw.  Based on what the prosecution was asking for, it\\'s evident that \\nthe first jury decided that the officers were \"not guilty\".  Note, \\nnot \"not guilty\" of doing wrong, but \"not guilty\" of aggravated assault \\nwith the *intent* of inflicting serious bodily harm.  The seeds of the \\nprosecutions defeat were in their own overconfidence in obtaining a \\nverdict such that they went for the most extreme charge they could.\\n\\nIf the facts as the news commentators presented them are true, then\\nI feel the \"not guilty\" verdict was a reasonable one.\\n\\n\\nThanks mathew, I like the quote.  Pretty funny actually.  (I\\'m a \\nMonty Python fan, you know.  Kind of seems in that vein.)\\n\\nOf course, oversimplifying any moral argument can make it seem\\ncontradictory.  But then, you know that already.  \\n\\nRegards,',\n",
              " \"<stuff deleted>\\n\\nYou mean like: seconds, minutes, hours, days, months, years. . .  :-)\\n\\nRemember,  the Fahrenheit temperature scale is also a centigrade scale.  Some\\nrevisionists tell the history something like this:  The coldest point in a\\nparticular Russian winter was marked on the thermometer as was the body\\ntemperature of a volunteer (turns out he was sick, but you can't win 'em all).\\nThen the space in between the marks on the thermometer was then divided into\\nhundredths.\\n\\t\\t\\t\\t\\t\\t\\t\\t:-)\\n\\nFWIW,\\n\\nDoug Page\\n\",\n",
              " \"\\nIt wasn't especially prominent, as I recall.  However, quite possibly it's\\nno longer on display; NASM, like most museums, has much more stuff than it\\ncan display at once, and does rotate the displays occasionally.\",\n",
              " \"DM> Fact or rumor....?  Madalyn Murray O'Hare an atheist who eliminated the\\nDM> use of the bible reading and prayer in public schools 15 years ago is now\\nDM> going to appear before the FCC with a petition to stop the reading of the\\nDM> Gospel on the airways of America.  And she is also campaigning to remove\\nDM> Christmas programs, songs, etc from the public schools.  If it is true\\nDM> then mail to Federal Communications Commission 1919 H Street Washington DC\\nDM> 20054 expressing your opposition to her request.  Reference Petition number\\n\\nDM> 2493.\\n\\nFalse.  This story has been going around for years.  There's not a drop of\\ntruth.  Note that I don't care for O'Hare (O'Hair?) myself, but this\\nis one thing she's not guilty of.\\n\"]"
            ]
          },
          "metadata": {
            "tags": []
          },
          "execution_count": 66
        }
      ]
    },
    {
      "cell_type": "code",
      "metadata": {
        "id": "n6a8-JAZnEDh",
        "colab_type": "code",
        "colab": {}
      },
      "source": [
        "W1 = clf.fit_transform(vectors_tfidf)\n",
        "H1 = clf.components_"
      ],
      "execution_count": 0,
      "outputs": []
    },
    {
      "cell_type": "code",
      "metadata": {
        "id": "EyamCxjgVxio",
        "colab_type": "code",
        "colab": {
          "base_uri": "https://localhost:8080/",
          "height": 34
        },
        "outputId": "499cda03-a103-41f9-fe8c-51d21805a2f0"
      },
      "source": [
        "vectors_tfidf.shape , W1.shape , H1.shape"
      ],
      "execution_count": 69,
      "outputs": [
        {
          "output_type": "execute_result",
          "data": {
            "text/plain": [
              "((2034, 26576), (2034, 5), (5, 26576))"
            ]
          },
          "metadata": {
            "tags": []
          },
          "execution_count": 69
        }
      ]
    },
    {
      "cell_type": "code",
      "metadata": {
        "id": "OO5eRSNUnEDk",
        "colab_type": "code",
        "outputId": "82c2b831-b80e-4277-f2f4-4c46ac28fc1b",
        "colab": {
          "base_uri": "https://localhost:8080/",
          "height": 102
        }
      },
      "source": [
        "show_topics(H1)"
      ],
      "execution_count": 68,
      "outputs": [
        {
          "output_type": "execute_result",
          "data": {
            "text/plain": [
              "['people don think just like objective say morality',\n",
              " 'graphics thanks files image file program windows know',\n",
              " 'space nasa launch shuttle orbit moon lunar earth',\n",
              " 'ico bobbe tek beauchaine bronx manhattan sank queens',\n",
              " 'god jesus bible believe christian atheism does belief']"
            ]
          },
          "metadata": {
            "tags": []
          },
          "execution_count": 68
        }
      ]
    },
    {
      "cell_type": "code",
      "metadata": {
        "id": "yrn-WKvrnEDo",
        "colab_type": "code",
        "outputId": "c1f6ee9e-63eb-4dd7-9045-177cb8e69d2d",
        "colab": {
          "base_uri": "https://localhost:8080/",
          "height": 286
        }
      },
      "source": [
        "plt.plot(clf.components_[0])"
      ],
      "execution_count": 70,
      "outputs": [
        {
          "output_type": "execute_result",
          "data": {
            "text/plain": [
              "[<matplotlib.lines.Line2D at 0x7feabcb4e9e8>]"
            ]
          },
          "metadata": {
            "tags": []
          },
          "execution_count": 70
        },
        {
          "output_type": "display_data",
          "data": {
            "image/png": "[encoded data removed]",
            "text/plain": [
              "<Figure size 432x288 with 1 Axes>"
            ]
          },
          "metadata": {
            "tags": []
          }
        }
      ]
    },
    {
      "cell_type": "code",
      "metadata": {
        "id": "B-MQoQOsnEDu",
        "colab_type": "code",
        "outputId": "1515bec2-88aa-499f-faa6-307ea31712d0",
        "colab": {
          "base_uri": "https://localhost:8080/",
          "height": 34
        }
      },
      "source": [
        "clf.reconstruction_err_"
      ],
      "execution_count": 71,
      "outputs": [
        {
          "output_type": "execute_result",
          "data": {
            "text/plain": [
              "43.712926057952785"
            ]
          },
          "metadata": {
            "tags": []
          },
          "execution_count": 71
        }
      ]
    },
    {
      "cell_type": "markdown",
      "metadata": {
        "id": "V9cK0UKmnEDy",
        "colab_type": "text"
      },
      "source": [
        "### NMF in summary"
      ]
    },
    {
      "cell_type": "markdown",
      "metadata": {
        "id": "OyTi0HKInEDz",
        "colab_type": "text"
      },
      "source": [
        "Benefits: Fast and easy to use!\n",
        "\n",
        "Downsides: took years of research and expertise to create"
      ]
    },
    {
      "cell_type": "markdown",
      "metadata": {
        "id": "ije5KsRMnED2",
        "colab_type": "text"
      },
      "source": [
        "Notes:\n",
        "- For NMF, matrix needs to be at least as tall as it is wide, or we get an error with fit_transform\n",
        "- Can use df_min in CountVectorizer to only look at words that were in at least k of the split texts"
      ]
    },
    {
      "cell_type": "markdown",
      "metadata": {
        "id": "ycyGwmYGnED3",
        "colab_type": "text"
      },
      "source": [
        "## Truncated SVD"
      ]
    },
    {
      "cell_type": "markdown",
      "metadata": {
        "id": "GaZaRQwynED4",
        "colab_type": "text"
      },
      "source": [
        "We saved a lot of time when we calculated NMF by only calculating the subset of columns we were interested in. Is there a way to get this benefit with SVD? Yes there is! It's called truncated SVD.  We are just interested in the vectors corresponding to the **largest** singular values."
      ]
    },
    {
      "cell_type": "markdown",
      "metadata": {
        "id": "cwQBrCXvnED6",
        "colab_type": "text"
      },
      "source": [
        "<img src=\"https://github.com/fastai/course-nlp/blob/master/images/svd_fb.png?raw=1\" alt=\"\" style=\"width: 80%\"/>\n",
        "\n",
        "(source: [Facebook Research: Fast Randomized SVD](https://research.fb.com/fast-randomized-svd/))"
      ]
    },
    {
      "cell_type": "markdown",
      "metadata": {
        "id": "Oo0pEulNnED8",
        "colab_type": "text"
      },
      "source": [
        "#### Shortcomings of classical algorithms for decomposition:"
      ]
    },
    {
      "cell_type": "markdown",
      "metadata": {
        "id": "I7GefIuanED-",
        "colab_type": "text"
      },
      "source": [
        "- Matrices are \"stupendously big\"\n",
        "- Data are often **missing or inaccurate**.  Why spend extra computational resources when imprecision of input limits precision of the output?\n",
        "- **Data transfer** now plays a major role in time of algorithms.  Techniques the require fewer passes over the data may be substantially faster, even if they require more flops (flops = floating point operations).\n",
        "- Important to take advantage of **GPUs**.\n",
        "\n",
        "(source: [Halko](https://arxiv.org/abs/0909.4061))"
      ]
    },
    {
      "cell_type": "markdown",
      "metadata": {
        "id": "IKOvGbvWnEEA",
        "colab_type": "text"
      },
      "source": [
        "#### Advantages of randomized algorithms:"
      ]
    },
    {
      "cell_type": "markdown",
      "metadata": {
        "id": "lrDzZR8-nEEC",
        "colab_type": "text"
      },
      "source": [
        "- inherently stable\n",
        "- performance guarantees do not depend on subtle spectral properties\n",
        "- needed matrix-vector products can be done in parallel\n",
        "\n",
        "(source: [Halko](https://arxiv.org/abs/0909.4061))"
      ]
    },
    {
      "cell_type": "markdown",
      "metadata": {
        "id": "x-kibEBonEED",
        "colab_type": "text"
      },
      "source": [
        "### Timing comparison"
      ]
    },
    {
      "cell_type": "code",
      "metadata": {
        "id": "m2A5FVIAnEEE",
        "colab_type": "code",
        "outputId": "5c540c99-8c81-4b0e-897e-af848371e807",
        "colab": {
          "base_uri": "https://localhost:8080/",
          "height": 51
        }
      },
      "source": [
        "%time u, s, v = np.linalg.svd(vectors, full_matrices=False)"
      ],
      "execution_count": 72,
      "outputs": [
        {
          "output_type": "stream",
          "text": [
            "CPU times: user 1min 12s, sys: 3.53 s, total: 1min 15s\n",
            "Wall time: 39.2 s\n"
          ],
          "name": "stdout"
        }
      ]
    },
    {
      "cell_type": "code",
      "metadata": {
        "id": "0w3_g5C4XD0v",
        "colab_type": "code",
        "colab": {
          "base_uri": "https://localhost:8080/",
          "height": 173
        },
        "outputId": "134574d2-21e3-415e-eb4c-198fc180e226"
      },
      "source": [
        "!pip install fbpca"
      ],
      "execution_count": 74,
      "outputs": [
        {
          "output_type": "stream",
          "text": [
            "Collecting fbpca\n",
            "  Downloading https://files.pythonhosted.org/packages/a7/a5/2085d0645a4bb4f0b606251b0b7466c61326e4a471d445c1c3761a2d07bc/fbpca-1.0.tar.gz\n",
            "Building wheels for collected packages: fbpca\n",
            "  Building wheel for fbpca (setup.py) ... \u001b[?25l\u001b[?25hdone\n",
            "  Stored in directory: /root/.cache/pip/wheels/53/a2/dd/9b66cf53dbc58cec1e613d216689e5fa946d3e7805c30f60dc\n",
            "Successfully built fbpca\n",
            "Installing collected packages: fbpca\n",
            "Successfully installed fbpca-1.0\n"
          ],
          "name": "stdout"
        }
      ]
    },
    {
      "cell_type": "code",
      "metadata": {
        "id": "bIrJBvPinEEK",
        "colab_type": "code",
        "colab": {}
      },
      "source": [
        "from sklearn import decomposition\n",
        "import fbpca"
      ],
      "execution_count": 0,
      "outputs": []
    },
    {
      "cell_type": "code",
      "metadata": {
        "id": "COAwtK4-nEES",
        "colab_type": "code",
        "outputId": "91c2e0f3-1973-4598-8723-a11dbdfa8e53",
        "colab": {
          "base_uri": "https://localhost:8080/",
          "height": 51
        }
      },
      "source": [
        "%time u, s, v = decomposition.randomized_svd(vectors, 10)"
      ],
      "execution_count": 76,
      "outputs": [
        {
          "output_type": "stream",
          "text": [
            "CPU times: user 6.74 s, sys: 1.62 s, total: 8.37 s\n",
            "Wall time: 4.46 s\n"
          ],
          "name": "stdout"
        }
      ]
    },
    {
      "cell_type": "markdown",
      "metadata": {
        "id": "ibu25tjmnEEX",
        "colab_type": "text"
      },
      "source": [
        "Randomized SVD from Facebook's library fbpca:"
      ]
    },
    {
      "cell_type": "code",
      "metadata": {
        "id": "LyN3Dh4cnEEY",
        "colab_type": "code",
        "outputId": "e4d2448e-e2d5-4371-e9c9-50fb7cff87a5",
        "colab": {
          "base_uri": "https://localhost:8080/",
          "height": 51
        }
      },
      "source": [
        "%time u, s, v = fbpca.pca(vectors, 10)"
      ],
      "execution_count": 77,
      "outputs": [
        {
          "output_type": "stream",
          "text": [
            "CPU times: user 2.53 s, sys: 635 ms, total: 3.17 s\n",
            "Wall time: 1.7 s\n"
          ],
          "name": "stdout"
        }
      ]
    },
    {
      "cell_type": "markdown",
      "metadata": {
        "id": "ZbH57V3pnEEf",
        "colab_type": "text"
      },
      "source": [
        "For more on randomized SVD, check out my [PyBay 2017 talk](https://www.youtube.com/watch?v=7i6kBz1kZ-A&list=PLtmWHNX-gukLQlMvtRJ19s7-8MrnRV6h6&index=7).\n",
        "\n",
        "For significantly more on randomized SVD, check out the [Computational Linear Algebra course](https://github.com/fastai/numerical-linear-algebra)."
      ]
    },
    {
      "cell_type": "markdown",
      "metadata": {
        "id": "eXO1lyGVnEEh",
        "colab_type": "text"
      },
      "source": [
        "## End"
      ]
    }
  ]
}